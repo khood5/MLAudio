{
 "cells": [
  {
   "cell_type": "code",
   "execution_count": 45,
   "id": "7b0fc42a-6ec6-4624-b8d7-c475026ea023",
   "metadata": {},
   "outputs": [
    {
     "name": "stdout",
     "output_type": "stream",
     "text": [
      "-98.584809546732\n"
     ]
    },
    {
     "data": {
      "text/plain": [
       "[]"
      ]
     },
     "execution_count": 45,
     "metadata": {},
     "output_type": "execute_result"
    }
   ],
   "source": [
    "# We will plot some information regarding volume levels on the raw gunshot and background sound datasets\n",
    "# There is concern that some audio samples are excessively loud and possibly unrealistic, which leads to incorrect classification\n",
    "from pydub import AudioSegment\n",
    "import numpy as np\n",
    "from math import sqrt, log10\n",
    "\n",
    "BACKGROUND_INDEX = 'data/raw_backgrounds_index.csv'\n",
    "GUNSHOT_INDEX = 'data/raw_gunshots_index.csv'\n",
    "\n",
    "def read_from_index(path):\n",
    "    result = []\n",
    "    with open(path, 'r') as f:\n",
    "        for line in f.readlines():\n",
    "            audio = AudioSegment.from_file(line.replace('\\n', ''), format=\"wav\", codec=\"pcm_s32le\")\n",
    "            rate = audio.frame_rate\n",
    "            samples = np.array(audio.get_array_of_samples())\n",
    "\n",
    "            # get sample rate per 50ms\n",
    "            rate_50ms = rate//20\n",
    "            max_50ms = samples[:rate_50ms].max()\n",
    "\n",
    "            print(20*log10(sqrt(np.mean(samples[:rate_50ms]))/max_50ms))\n",
    "\n",
    "            break\n",
    "\n",
    "    return result\n",
    "\n",
    "read_from_index(BACKGROUND_INDEX)"
   ]
  },
  {
   "cell_type": "code",
   "execution_count": null,
   "id": "b7d01300-535e-4e9e-842a-da895b78aef3",
   "metadata": {},
   "outputs": [],
   "source": []
  }
 ],
 "metadata": {
  "kernelspec": {
   "display_name": "Python 3 (ipykernel)",
   "language": "python",
   "name": "python3"
  },
  "language_info": {
   "codemirror_mode": {
    "name": "ipython",
    "version": 3
   },
   "file_extension": ".py",
   "mimetype": "text/x-python",
   "name": "python",
   "nbconvert_exporter": "python",
   "pygments_lexer": "ipython3",
   "version": "3.12.7"
  }
 },
 "nbformat": 4,
 "nbformat_minor": 5
}
