{
 "cells": [
  {
   "cell_type": "markdown",
   "id": "8510ee5d-4f00-48c0-af68-658cb8362afc",
   "metadata": {},
   "source": [
    "# FC SNN"
   ]
  },
  {
   "cell_type": "code",
   "execution_count": 17,
   "id": "93cdb468-15e5-4e02-a69c-154ad49b697d",
   "metadata": {},
   "outputs": [
    {
     "name": "stdout",
     "output_type": "stream",
     "text": [
      "Run 0:\n",
      "Total energy used: 1077.42J\n",
      "Average per sample energy: 0.27J\n",
      "Average consumption: 6.31w\n",
      "Inference time: 170.72s\n",
      "Run 1:\n",
      "Total energy used: 941.48J\n",
      "Average per sample energy: 0.24J\n",
      "Average consumption: 6.43w\n",
      "Inference time: 146.45s\n",
      "Run 2:\n",
      "Total energy used: 1092.29J\n",
      "Average per sample energy: 0.27J\n",
      "Average consumption: 6.39w\n",
      "Inference time: 170.82s\n"
     ]
    }
   ],
   "source": [
    "times = [170.72, 146.45, 170.82]\n",
    "draw_interval = 3\n",
    "test_samples = 4000\n",
    "\n",
    "path = './power-results/fc/powerfc?.txt' # replace ? with number\n",
    "\n",
    "wattages = [] # average wattage per run\n",
    "for i in range(len(times)):\n",
    "    with open(path.replace('?', str(i+1)), 'r') as f:\n",
    "        wattage = [float(line.replace('\\n', '')) for line in f.readlines()]\n",
    "    wattages.append(sum(wattage)/len(wattage))\n",
    "\n",
    "for i in range(len(times)):\n",
    "    print(f'Run {i}:')\n",
    "    print(f'Total energy used: {times[i]*wattages[i]:.2f}J')\n",
    "    print(f'Average per sample energy: {(times[i]*wattages[i])/test_samples:.2f}J')\n",
    "    print(f'Average consumption: {wattages[i]:.2f}w')\n",
    "    print(f'Inference time: {times[i]}s')"
   ]
  },
  {
   "cell_type": "markdown",
   "id": "174c4864-bcbf-4671-938f-a9b35703ad00",
   "metadata": {},
   "source": [
    "# Convolutional SNN"
   ]
  },
  {
   "cell_type": "code",
   "execution_count": 18,
   "id": "13972634-dcc5-4d52-81c5-76418642f948",
   "metadata": {},
   "outputs": [
    {
     "name": "stdout",
     "output_type": "stream",
     "text": [
      "Run 0:\n",
      "Total energy used: 3001.58J\n",
      "Average per sample energy: 0.75J\n",
      "Average consumption: 8.24w\n",
      "Inference time: 364.45s\n",
      "Run 1:\n",
      "Total energy used: 3136.49J\n",
      "Average per sample energy: 0.78J\n",
      "Average consumption: 8.18w\n",
      "Inference time: 383.62s\n",
      "Run 2:\n",
      "Total energy used: 3079.85J\n",
      "Average per sample energy: 0.77J\n",
      "Average consumption: 7.90w\n",
      "Inference time: 389.63s\n"
     ]
    }
   ],
   "source": [
    "times = [364.45, 383.62, 389.63]\n",
    "draw_interval = 3\n",
    "test_samples = 4000\n",
    "\n",
    "path = './power-results/conv/powerconv?.txt' # replace ? with number\n",
    "\n",
    "wattages = [] # average wattage per run\n",
    "for i in range(len(times)):\n",
    "    with open(path.replace('?', str(i+1)), 'r') as f:\n",
    "        wattage = [float(line.replace('\\n', '')) for line in f.readlines()]\n",
    "    wattages.append(sum(wattage)/len(wattage))\n",
    "\n",
    "for i in range(len(times)):\n",
    "    print(f'Run {i}:')\n",
    "    print(f'Total energy used: {times[i]*wattages[i]:.2f}J')\n",
    "    print(f'Average per sample energy: {(times[i]*wattages[i])/test_samples:.2f}J')\n",
    "    print(f'Average consumption: {wattages[i]:.2f}w')\n",
    "    print(f'Inference time: {times[i]}s')"
   ]
  },
  {
   "cell_type": "code",
   "execution_count": null,
   "id": "505976e3-cafe-48e7-8f4e-372f2645e56b",
   "metadata": {},
   "outputs": [],
   "source": []
  }
 ],
 "metadata": {
  "kernelspec": {
   "display_name": "Python 3 (ipykernel)",
   "language": "python",
   "name": "python3"
  },
  "language_info": {
   "codemirror_mode": {
    "name": "ipython",
    "version": 3
   },
   "file_extension": ".py",
   "mimetype": "text/x-python",
   "name": "python",
   "nbconvert_exporter": "python",
   "pygments_lexer": "ipython3",
   "version": "3.12.8"
  }
 },
 "nbformat": 4,
 "nbformat_minor": 5
}
