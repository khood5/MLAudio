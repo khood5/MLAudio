{
 "cells": [
  {
   "cell_type": "markdown",
   "id": "134ea0ad-3b19-4583-8cb5-37e0133d16e1",
   "metadata": {},
   "source": [
    "# Investigating increasing validation loss on FF SNN\n",
    "The code in this script are just copy pasted from create-dataset and inference.py"
   ]
  },
  {
   "cell_type": "code",
   "execution_count": 21,
   "id": "6291b905-1d77-4aea-b1da-ce7aab7a7351",
   "metadata": {},
   "outputs": [],
   "source": [
    "import torchaudio\n",
    "import torch\n",
    "import random\n",
    "import numpy as np\n",
    "import os\n",
    "import pywt\n",
    "import noisereduce\n",
    "\n",
    "from snntorch import spikeplot as splt\n",
    "from snntorch import spikegen\n",
    "\n",
    "from common import SNN\n",
    "\n",
    "import torch\n",
    "import matplotlib.pyplot as plt\n",
    "\n",
    "import numpy as np\n",
    "\n",
    "import matplotlib.pyplot as plt"
   ]
  },
  {
   "cell_type": "code",
   "execution_count": 3,
   "id": "f30db5e8-2926-4f41-a578-4f78bdb5fbda",
   "metadata": {},
   "outputs": [],
   "source": [
    "# input is shape time x batch x channels (from spectrogram or dwt spec)\n",
    "def posneg_delta(raw_spec_data):\n",
    "    delta = spikegen.delta(raw_spec_data, threshold=DM_THRESHOLD, off_spike=True)\n",
    "    \n",
    "    new_data = torch.zeros(delta.shape[0], delta.shape[1], delta.shape[2]*2, device=delta.device)\n",
    "\n",
    "    pos_mask = (delta == 1)\n",
    "    neg_mask = (delta == -1)\n",
    "\n",
    "    new_data[:, :, :delta.shape[2]] = pos_mask.to(torch.float32)\n",
    "    new_data[:, :, delta.shape[2]:] = neg_mask.to(torch.float32)\n",
    "\n",
    "    return new_data\n",
    "\n",
    "def to_spikes(paths_list, labels):\n",
    "    if MODE == 'spec':\n",
    "        all_spikes = []\n",
    "        all_waveforms = []\n",
    "        targets = np.array(labels)\n",
    "\n",
    "        p_count = 0\n",
    "        for p in paths_list:\n",
    "            # log\n",
    "            p_count += 1\n",
    "            if p_count % 100 == 0:\n",
    "                print(f'Done {p_count} samples.')\n",
    "            \n",
    "            samples, rate = torchaudio.load(p, normalize=True)\n",
    "            \n",
    "            if samples.shape[0] == 2: samples = samples[0, :]\n",
    "            else: samples = samples[0]\n",
    "            if(len(samples) < 24000):\n",
    "                samples = torch.cat((samples, torch.tensor([0])))\n",
    "\n",
    "            #plt.plot(np.linspace(0, len(samples), len(samples)), samples)\n",
    "            \n",
    "            samples = torch.tensor(noisereduce.reduce_noise(y=samples, sr=rate)) # testing this because I had it on in the ResNet version dataset\n",
    "\n",
    "            #plt.plot(np.linspace(0, len(samples), len(samples)), samples)\n",
    "\n",
    "            # freq bin count is nfft//2 + 1\n",
    "            spec_transform = torchaudio.transforms.Spectrogram(n_fft=(2*SPEC_FREQ_BIN_COUNT-2))\n",
    "\n",
    "            samples = samples.to(torch.float64)\n",
    "            spec = spec_transform(samples)\n",
    "\n",
    "            # convert waveform to spikes\n",
    "            timesteps = spec.shape[1]\n",
    "            waveform_timestep_len = (24000//timesteps) + 1\n",
    "\n",
    "            ts_waveform = [] # timesteps but compressed to time resolution of spectrogram output\n",
    "            current_t = waveform_timestep_len\n",
    "            while current_t <= 24000:\n",
    "                ts_waveform.append(samples[current_t-waveform_timestep_len: current_t].max())\n",
    "                current_t += waveform_timestep_len\n",
    "\n",
    "            if len(ts_waveform) < timesteps: # pad so dimensions match\n",
    "                ts_waveform.append(0) \n",
    "\n",
    "            # normalize because amplitude scales vary a lot (and we did this in resnet accidentally)\n",
    "            ts_waveform = torch.tensor(ts_waveform)\n",
    "            ts_waveform = (ts_waveform - ts_waveform.min()) / (ts_waveform.max() - ts_waveform.min())\n",
    "\n",
    "            # debug\n",
    "            #plt.plot(np.linspace(0, len(samples), len(samples)), samples)\n",
    "            #plt.plot(np.linspace(0, len(ts_waveform), len(ts_waveform)), ts_waveform)\n",
    "\n",
    "            # convert compressed waveform into spikes using bins\n",
    "            waveform_spikes = []\n",
    "            num_bins = 20\n",
    "            bin_size = 1/num_bins\n",
    "            for w in ts_waveform:\n",
    "                waveform_spikes.append([0 for i in range(num_bins)])\n",
    "                waveform_spikes[-1][int(w//bin_size)] = 1\n",
    "\n",
    "            waveform_spikes = torch.tensor(waveform_spikes)\n",
    "\n",
    "            # debug\n",
    "            # fig = plt.figure(facecolor=\"w\", figsize=(10, 5))\n",
    "            # ax = fig.add_subplot(111)\n",
    "            # splt.raster(waveform_spikes, ax, s=5, c=\"black\")\n",
    "\n",
    "            all_spikes.append(spec)\n",
    "            all_waveforms.append(waveform_spikes)\n",
    "\n",
    "        # global max/min normalization\n",
    "        print('Looking for global max/min...')\n",
    "        global_min = 0\n",
    "        global_max = 0\n",
    "        for s in all_spikes:\n",
    "            if s.min() < global_min: global_min = s.min()\n",
    "            if s.max() > global_max: global_max = s.max()\n",
    "\n",
    "        # now normalize everything\n",
    "        print('Normalizing...')\n",
    "        for i in range(len(all_spikes)):\n",
    "            all_spikes[i] = (all_spikes[i]-global_min) / (global_max - global_min)\n",
    "\n",
    "        all_spikes = torch.stack(all_spikes)\n",
    "        all_waveforms = torch.stack(all_waveforms)\n",
    "\n",
    "        # delta modulate spectrogram\n",
    "        all_spikes = all_spikes.permute(2, 0, 1)\n",
    "        print('Running deltamod')\n",
    "        all_spikes_dm = posneg_delta(all_spikes)\n",
    "\n",
    "        # note: here, all_spikes_dm is (timestep, batch, neuron) and all_waveforms is (batch, timestep, neuron)\n",
    "        all_waveforms = all_waveforms.permute(1, 0, 2)\n",
    "\n",
    "        return torch.cat((all_spikes_dm, all_waveforms), dim=2), torch.tensor(labels)\n",
    "\n",
    "    # DWT MODE\n",
    "    elif MODE == 'dwt':\n",
    "        all_spikes = []\n",
    "        all_waveforms = []\n",
    "        targets = np.array(labels)\n",
    "\n",
    "        p_count = 0\n",
    "        for p in paths_list:\n",
    "            # log\n",
    "            p_count += 1\n",
    "            if p_count % 100 == 0:\n",
    "                print(f'Done {p_count} samples.')\n",
    "            \n",
    "            samples, rate = torchaudio.load(p, normalize=True)\n",
    "            \n",
    "            if samples.shape[0] == 2: samples = samples[0, :]\n",
    "            else: samples = samples[0]\n",
    "            if(len(samples) < 24000):\n",
    "                samples = torch.cat((samples, torch.tensor([0])))\n",
    "\n",
    "            #plt.plot(np.linspace(0, len(samples), len(samples)), samples)\n",
    "            \n",
    "            samples = torch.tensor(noisereduce.reduce_noise(y=samples, sr=rate)) # testing this because I had it on in the ResNet version dataset\n",
    "\n",
    "            #plt.plot(np.linspace(0, len(samples), len(samples)), samples)\n",
    "\n",
    "            coeffs = pywt.wavedec(samples, 'db1', level=DWT_LEVELS)\n",
    "\n",
    "            accum = np.abs(np.array([coeffs[-1]]))\n",
    "            for i in range(DWT_LEVELS - 1):\n",
    "                current_coef = coeffs[DWT_LEVELS - 1 - i]\n",
    "                r = np.abs(np.array([np.repeat(current_coef, pow(2, i + 1))]))\n",
    "                r = r[:, 0:rate]\n",
    "                accum = np.concatenate([accum, r])\n",
    "            \n",
    "            timestep_skip = rate//DWT_TIMESTEPS\n",
    "\n",
    "            channels = [[] for i in range(DWT_LEVELS)]\n",
    "            for i in range(rate//timestep_skip):\n",
    "                for j in range(DWT_LEVELS):\n",
    "                    channels[j].append(accum[j][i*timestep_skip])\n",
    "\n",
    "            channels = torch.tensor(channels)\n",
    "            channels = (channels - channels.min()) / (channels.max()-channels.min())\n",
    "\n",
    "            # convert waveform to spikes\n",
    "            timesteps = channels.shape[1]\n",
    "            waveform_timestep_len = (24000//timesteps)\n",
    "\n",
    "            ts_waveform = [] # timesteps but compressed to time resolution of spectrogram output\n",
    "            current_t = waveform_timestep_len\n",
    "            while current_t <= 24000:\n",
    "                ts_waveform.append(samples[current_t-waveform_timestep_len: current_t].max())\n",
    "                current_t += waveform_timestep_len\n",
    "\n",
    "            if len(ts_waveform) < timesteps: # pad so dimensions match\n",
    "                ts_waveform.append(0) \n",
    "\n",
    "            # normalize because amplitude scales vary a lot (and we did this in resnet)\n",
    "            ts_waveform = torch.tensor(ts_waveform)\n",
    "            ts_waveform = (ts_waveform - ts_waveform.min()) / (ts_waveform.max() - ts_waveform.min())\n",
    "\n",
    "            # debug\n",
    "            #plt.plot(np.linspace(0, len(samples), len(samples)), samples)\n",
    "            #plt.plot(np.linspace(0, len(ts_waveform), len(ts_waveform)), ts_waveform)\n",
    "\n",
    "            # convert compressed waveform into spikes using bins\n",
    "            waveform_spikes = []\n",
    "            num_bins = 20\n",
    "            bin_size = 1/num_bins\n",
    "            for w in ts_waveform:\n",
    "                waveform_spikes.append([0 for i in range(num_bins)])\n",
    "                waveform_spikes[-1][int(w//bin_size)] = 1\n",
    "\n",
    "            waveform_spikes = torch.tensor(waveform_spikes)\n",
    "\n",
    "            # debug\n",
    "            # fig = plt.figure(facecolor=\"w\", figsize=(10, 5))\n",
    "            # ax = fig.add_subplot(111)\n",
    "            # splt.raster(waveform_spikes, ax, s=5, c=\"black\")\n",
    "\n",
    "            all_spikes.append(channels)\n",
    "            all_waveforms.append(waveform_spikes)\n",
    "\n",
    "        # # global max/min normalization\n",
    "        # print('Looking for global max/min...')\n",
    "        # global_min = 0\n",
    "        # global_max = 0\n",
    "        # for s in all_spikes:\n",
    "        #     if s.min() < global_min: global_min = s.min()\n",
    "        #     if s.max() > global_max: global_max = s.max()\n",
    "\n",
    "        # # now normalize everything\n",
    "        # print('Normalizing...')\n",
    "        # for i in range(len(all_spikes)):\n",
    "        #     all_spikes[i] = (all_spikes[i]-global_min) / (global_max - global_min)\n",
    "\n",
    "        all_spikes = torch.stack(all_spikes)\n",
    "        all_waveforms = torch.stack(all_waveforms)\n",
    "\n",
    "        # delta modulate spectrogram\n",
    "        all_spikes = all_spikes.permute(2, 0, 1)\n",
    "        print('Running deltamod')\n",
    "        all_spikes_dm = posneg_delta(all_spikes)\n",
    "\n",
    "        # note: here, all_spikes_dm is (timestep, batch, neuron) and all_waveforms is (batch, timestep, neuron)\n",
    "        all_waveforms = all_waveforms.permute(1, 0, 2)\n",
    "\n",
    "        return torch.cat((all_spikes_dm, all_waveforms), dim=2), torch.tensor(labels)"
   ]
  },
  {
   "cell_type": "code",
   "execution_count": 52,
   "id": "3ec1a6ef-8eb3-404f-a7fc-c70799925594",
   "metadata": {},
   "outputs": [],
   "source": [
    "#SAMPLE_PATH = '../data/gunshotsNew/gunshot_00a19e08-79fc-41b0-9c9d-fbf2216bb47e.wav'\n",
    "SAMPLE_PATH = '../data/genBackgrounds/background_000baebd-d632-4513-8fde-7720f703f411.wav'\n",
    "LABEL_S = 1\n",
    "MODEL_PATH = './results/16/model_best.pth'\n",
    "MODE = 'dwt'\n",
    "DWT_LEVELS = 7\n",
    "DWT_TIMESTEPS = 500\n",
    "DM_THRESHOLD = 0.05\n",
    "BETA = 0.9"
   ]
  },
  {
   "cell_type": "code",
   "execution_count": 53,
   "id": "4ac352b3-c6b4-4967-a1b7-b888996adeae",
   "metadata": {},
   "outputs": [
    {
     "name": "stdout",
     "output_type": "stream",
     "text": [
      "Running deltamod\n"
     ]
    }
   ],
   "source": [
    "spikes, labels = to_spikes([SAMPLE_PATH], [LABEL_S])"
   ]
  },
  {
   "cell_type": "code",
   "execution_count": 54,
   "id": "a78f1db0-a90c-4ac3-9f98-a962368f87b0",
   "metadata": {},
   "outputs": [
    {
     "data": {
      "text/plain": [
       "<matplotlib.collections.PathCollection at 0x7f8d90e2fd10>"
      ]
     },
     "execution_count": 54,
     "metadata": {},
     "output_type": "execute_result"
    },
    {
     "data": {
      "image/png": "[encoded data removed]",
      "text/plain": [
       "<Figure size 1000x500 with 1 Axes>"
      ]
     },
     "metadata": {},
     "output_type": "display_data"
    }
   ],
   "source": [
    "# visualize spikes just to be sure\n",
    "fig = plt.figure(facecolor=\"w\", figsize=(10, 5))\n",
    "ax = fig.add_subplot(111)\n",
    "splt.raster(spikes[:, 0, :], ax, s=1, c=\"black\")"
   ]
  },
  {
   "cell_type": "code",
   "execution_count": 55,
   "id": "4db34d06-4d33-4be0-9f50-791f90faa7fa",
   "metadata": {},
   "outputs": [],
   "source": [
    "device = torch.device(\"cuda\" if torch.cuda.is_available() else \"cpu\")\n",
    "\n",
    "snn = SNN(spikes.shape[2], BETA, DWT_TIMESTEPS).to(device)\n",
    "snn.load_state_dict(torch.load(MODEL_PATH, weights_only=True, map_location=device))\n",
    "snn.eval()\n",
    "\n",
    "spikes = spikes.to(device)"
   ]
  },
  {
   "cell_type": "code",
   "execution_count": 56,
   "id": "45f53efc-e5c8-4bec-92c3-809265e797b9",
   "metadata": {},
   "outputs": [
    {
     "name": "stdout",
     "output_type": "stream",
     "text": [
      "222 spikes on background neuron and 7 spikes on gunshot neuron\n"
     ]
    }
   ],
   "source": [
    "out = snn(spikes)\n",
    "s = out[0].sum(dim=0)\n",
    "print(f'{int(s[0][0])} spikes on background neuron and {int(s[0][1])} spikes on gunshot neuron')"
   ]
  },
  {
   "cell_type": "code",
   "execution_count": 57,
   "id": "2a660430-be9e-419a-bb3d-9ed93e8a7bcf",
   "metadata": {},
   "outputs": [
    {
     "data": {
      "text/plain": [
       "<matplotlib.collections.PathCollection at 0x7f8d9060d700>"
      ]
     },
     "execution_count": 57,
     "metadata": {},
     "output_type": "execute_result"
    },
    {
     "data": {
      "image/png": "[encoded data removed]",
      "text/plain": [
       "<Figure size 1000x200 with 1 Axes>"
      ]
     },
     "metadata": {},
     "output_type": "display_data"
    }
   ],
   "source": [
    "# let's plot spike raster for output neurons\n",
    "fig = plt.figure(facecolor=\"w\", figsize=(10, 2))\n",
    "ax = fig.add_subplot(111)\n",
    "plt.ylim(-0.5, 1.5)\n",
    "splt.raster(out[0][:, 0, :], ax, s=0.5, c=\"black\")"
   ]
  },
  {
   "cell_type": "code",
   "execution_count": null,
   "id": "105e29b9-3186-4b88-8330-9b941e12ecf5",
   "metadata": {},
   "outputs": [],
   "source": []
  }
 ],
 "metadata": {
  "kernelspec": {
   "display_name": "Python 3 (ipykernel)",
   "language": "python",
   "name": "python3"
  },
  "language_info": {
   "codemirror_mode": {
    "name": "ipython",
    "version": 3
   },
   "file_extension": ".py",
   "mimetype": "text/x-python",
   "name": "python",
   "nbconvert_exporter": "python",
   "pygments_lexer": "ipython3",
   "version": "3.12.8"
  }
 },
 "nbformat": 4,
 "nbformat_minor": 5
}
