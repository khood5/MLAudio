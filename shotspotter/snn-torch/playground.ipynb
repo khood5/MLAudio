{
 "cells": [
  {
   "cell_type": "code",
   "execution_count": 1,
   "id": "994f7661-ab8f-4f82-a1ab-41672f3d051f",
   "metadata": {},
   "outputs": [],
   "source": [
    "import snntorch as snn\n",
    "from snntorch import spikeplot as splt\n",
    "from snntorch import spikegen\n",
    "\n",
    "import torch\n",
    "import torch.nn as nn\n",
    "import matplotlib.pyplot as plt\n",
    "\n",
    "from torch.utils.data import Dataset, DataLoader\n",
    "\n",
    "import numpy as np\n",
    "\n",
    "import matplotlib.pyplot as plt\n",
    "\n",
    "device = torch.device(\"cuda\" if torch.cuda.is_available() else \"cpu\")"
   ]
  },
  {
   "cell_type": "code",
   "execution_count": 2,
   "id": "2f0e8631-606f-400c-ae66-dc573699d255",
   "metadata": {},
   "outputs": [],
   "source": [
    "def write_spikes_to_disk(path, metadata, train, train_labels, train_gunshot_data, val, val_labels, val_gunshot_data,\n",
    "val_filenames, test, test_labels):\n",
    "    np.savez(path, metadata=metadata, train_set=train, validation_set=val, test_set=test, train_labels=train_labels,\n",
    "            validation_labels=val_labels, test_labels=test_labels, train_gunshot_data=train_gunshot_data,\n",
    "            validation_gunshot_data=val_gunshot_data, validation_filenames=val_filenames)\n",
    "\n",
    "def read_spikes_from_disk(path):\n",
    "    data = np.load(path)\n",
    "\n",
    "    # compatability with old datasets\n",
    "    val_filenames = []\n",
    "    if 'validation_filenames' in data:\n",
    "        val_filenames = data['validation_filenames']\n",
    "\n",
    "    return data['train_set'], data['train_labels'], data['train_gunshot_data'], data['validation_set'], data['validation_labels'], data['validation_gunshot_data'], val_filenames, data['test_set'], data['test_labels']"
   ]
  },
  {
   "cell_type": "markdown",
   "id": "a9cc067c-186d-4dcc-861a-ee19abe75e87",
   "metadata": {},
   "source": [
    "# Encoding Methods\n",
    "Make sure to read_spikes_from_disk using appropriate dataset for encoding.\n",
    "Each cell is an encoding type, only run one."
   ]
  },
  {
   "cell_type": "code",
   "execution_count": 3,
   "id": "de6abed1-1a61-4cea-a7ba-ae935db1f957",
   "metadata": {},
   "outputs": [],
   "source": [
    "# for now let's take the output from snn/make_dataset.py\n",
    "# it generates a DWT spectrogram matrix that is normalized to 0-1\n",
    "\n",
    "training_data, training_labels, training_gunshot_data, validation_data, validation_labels, validation_gunshot_data, validation_filenames, test_data, test_labels = read_spikes_from_disk('../snn/data/1200-dwt.npz')"
   ]
  },
  {
   "cell_type": "code",
   "execution_count": null,
   "id": "06541251-b918-43d7-a5f6-4dd98cbb218d",
   "metadata": {},
   "outputs": [],
   "source": [
    "# S2S ENCODING\n",
    "# temporary function just to convert data from s2s format from make_data.py to snntorch format\n",
    "def parse_s2s(d):\n",
    "    all_samples = []\n",
    "    for sample in d:\n",
    "        channels = []\n",
    "        for channel in sample:\n",
    "            channels.append([])\n",
    "            for timestep in channel:\n",
    "                channels[-1].append(timestep[2])\n",
    "        all_samples.append(channels)\n",
    "\n",
    "    return torch.tensor(all_samples, dtype=torch.float32).permute(2, 0, 1)\n",
    "\n",
    "dm_train_data = parse_s2s(training_data)\n",
    "dm_val_data = parse_s2s(validation_data)"
   ]
  },
  {
   "cell_type": "code",
   "execution_count": 4,
   "id": "1ac1b139-d320-45f2-899d-5e093ad443a7",
   "metadata": {},
   "outputs": [],
   "source": [
    "### DELTA MOD - 1 POSITIVE AND 1 NEGATIVE CHANNEL PER FREQ BAND\n",
    "# input is shape time x batch x channels (from spectrogram or dwt spec)\n",
    "def posneg_delta(raw_spec_data):\n",
    "    delta = spikegen.delta(raw_spec_data, threshold=0.005, off_spike=True)\n",
    "    \n",
    "    new_data = torch.zeros(delta.shape[0], delta.shape[1], delta.shape[2]*2) # 2 channels for each freq channel\n",
    "    for i in range(delta.shape[1]): # for each sample\n",
    "        for timestep in range(delta.shape[0]):\n",
    "            for channel in range(delta.shape[2]):\n",
    "                if delta[timestep, i, channel] == 1:\n",
    "                    new_data[timestep, i, channel] = 1\n",
    "                elif delta[timestep, i, channel] == -1:\n",
    "                    new_data[timestep, i, channel+delta.shape[2]] = 1;\n",
    "\n",
    "    return new_data\n",
    "    \n",
    "\n",
    "training_data = torch.tensor(training_data)\n",
    "training_data = training_data.permute(2, 0, 1) \n",
    "training_data = posneg_delta(training_data)\n",
    "\n",
    "\n",
    "val_data = torch.tensor(validation_data)\n",
    "val_data = val_data.permute(2, 0, 1) \n",
    "val_data = posneg_delta(val_data)\n",
    "\n",
    "test_data = torch.tensor(test_data)\n",
    "test_data = test_data.permute(2, 0, 1)\n",
    "test_data = posneg_delta(test_data)\n",
    "\n",
    "# write to disk for training\n",
    "metadata = ['dm-threshold: 0.005']\n",
    "write_spikes_to_disk('./data/1200-pndm.npz', metadata, training_data, training_labels, training_gunshot_data,\n",
    "    val_data, validation_labels, validation_gunshot_data, validation_filenames, test_data, test_labels)"
   ]
  },
  {
   "cell_type": "code",
   "execution_count": null,
   "id": "dc41ec22-e6a1-40b7-8ef1-1ba1a587a532",
   "metadata": {},
   "outputs": [],
   "source": [
    "# DELTA MOD - POSITIVE CHANNEL ONLY\n",
    "\n",
    "training_data = torch.tensor(training_data)\n",
    "training_data = training_data.permute(2, 0, 1) \n",
    "\n",
    "# note: delta expects shape (timestep, batch, neuron), also used for input to snn\n",
    "dm_train_data = spikegen.delta(training_data, threshold=0.0075)\n",
    "\n",
    "# also do for val set\n",
    "val_data = torch.tensor(validation_data)\n",
    "val_data = val_data.permute(2, 0, 1) \n",
    "\n",
    "# note: delta expects shape (timestep, batch, neuron), also used for input to snn\n",
    "dm_val_data = spikegen.delta(val_data, threshold=0.0075)"
   ]
  },
  {
   "cell_type": "code",
   "execution_count": 5,
   "id": "f8d57789-a342-4b1f-914e-e16c577bac17",
   "metadata": {},
   "outputs": [
    {
     "data": {
      "image/png": "[encoded data removed]",
      "text/plain": [
       "<Figure size 1000x500 with 1 Axes>"
      ]
     },
     "metadata": {},
     "output_type": "display_data"
    }
   ],
   "source": [
    "# visualize one sample raster\n",
    "fig = plt.figure(facecolor=\"w\", figsize=(10, 5))\n",
    "ax = fig.add_subplot(111)\n",
    "splt.raster(training_data[:, 32, :], ax, s=10, c=\"black\")\n",
    "\n",
    "plt.title(\"Input Layer\")\n",
    "plt.xlabel(\"Time step\")\n",
    "plt.ylabel(\"Neuron Number\")\n",
    "plt.show()"
   ]
  },
  {
   "cell_type": "code",
   "execution_count": 7,
   "id": "5272fc44-0283-4235-91c9-d18027c922b2",
   "metadata": {},
   "outputs": [],
   "source": [
    "# Now the network\n",
    "# Let's try a FFN\n",
    "# 7x250x250x2\n",
    "# see https://snntorch.readthedocs.io/en/latest/tutorials/tutorial_5.html\n",
    "beta = 0.9 # slow decay\n",
    "num_timesteps = dm_train_data.shape[0]\n",
    "\n",
    "class SNN(nn.Module):\n",
    "    def __init__(self, input_neurons):\n",
    "        super().__init__()\n",
    "        self.fc1 = nn.Linear(input_neurons, 250)\n",
    "        self.lif1 = snn.Leaky(beta=beta)\n",
    "        self.fc2 = nn.Linear(250, 250)\n",
    "        self.lif2 = snn.Leaky(beta=beta)\n",
    "        self.fc3 = nn.Linear(250, 2)\n",
    "        self.lif3 = snn.Leaky(beta=beta)\n",
    "\n",
    "    # x will be (timestep x batch x neuron) shape\n",
    "    def forward(self, x):\n",
    "        mem1 = self.lif1.init_leaky()\n",
    "        mem2 = self.lif2.init_leaky()\n",
    "        mem3 = self.lif3.init_leaky()\n",
    "\n",
    "        spikes = []\n",
    "        mem_rec = []\n",
    "\n",
    "        # Note: one timestep is a full pass\n",
    "        for step in range(num_timesteps):\n",
    "            cur1 = self.fc1(x[step])\n",
    "            spk1, mem1 = self.lif1(cur1, mem1)\n",
    "            cur2 = self.fc2(spk1)\n",
    "            spk2, mem2 = self.lif2(cur2, mem2)\n",
    "            cur3 = self.fc3(spk2)\n",
    "            spk3, mem3 = self.lif3(cur3, mem3)\n",
    "\n",
    "            spikes.append(spk3)\n",
    "            mem_rec.append(mem3)\n",
    "\n",
    "        return torch.stack(spikes, dim=0), torch.stack(mem_rec, dim=0)\n",
    "\n",
    "net = SNN(80).to(device)"
   ]
  },
  {
   "cell_type": "code",
   "execution_count": 9,
   "id": "fb8aa669-a559-4853-a782-751f37c68110",
   "metadata": {},
   "outputs": [],
   "source": [
    "# dataset for batches\n",
    "class SpikesDataset(Dataset):\n",
    "    def __init__(self, data, labels):\n",
    "        self.data = data\n",
    "        self.labels = labels\n",
    "\n",
    "    def __len__(self):\n",
    "        return self.data.shape[1]\n",
    "\n",
    "    def __getitem__(self, index):\n",
    "        return self.data[:, index, :], self.labels[index]\n",
    "\n",
    "ds = SpikesDataset(dm_train_data, torch.tensor(training_labels))\n",
    "loader = DataLoader(ds, batch_size=6, shuffle=True)"
   ]
  },
  {
   "cell_type": "code",
   "execution_count": 10,
   "id": "573b904e-5472-4834-8af6-da214d4ea2de",
   "metadata": {},
   "outputs": [
    {
     "name": "stdout",
     "output_type": "stream",
     "text": [
      "Starting epoch 0.\n",
      "Train loss: 206.24\n",
      "Val loss: 197.89\n",
      "Val accuracy: 75.00\n",
      "Starting epoch 1.\n",
      "Train loss: 201.71\n",
      "Val loss: 199.39\n",
      "Val accuracy: 83.33\n",
      "Starting epoch 2.\n",
      "Train loss: 201.06\n",
      "Val loss: 198.60\n",
      "Val accuracy: 83.33\n",
      "Starting epoch 3.\n",
      "Train loss: 201.01\n",
      "Val loss: 198.31\n",
      "Val accuracy: 83.33\n",
      "Starting epoch 4.\n",
      "Train loss: 201.53\n",
      "Val loss: 200.94\n",
      "Val accuracy: 83.33\n",
      "Starting epoch 5.\n",
      "Train loss: 200.30\n",
      "Val loss: 197.64\n",
      "Val accuracy: 83.33\n",
      "Starting epoch 6.\n",
      "Train loss: 199.18\n",
      "Val loss: 198.46\n",
      "Val accuracy: 83.33\n",
      "Starting epoch 7.\n",
      "Train loss: 196.99\n",
      "Val loss: 198.44\n",
      "Val accuracy: 83.33\n",
      "Starting epoch 8.\n",
      "Train loss: 195.99\n",
      "Val loss: 197.07\n",
      "Val accuracy: 83.33\n",
      "Starting epoch 9.\n",
      "Train loss: 194.01\n"
     ]
    },
    {
     "ename": "KeyboardInterrupt",
     "evalue": "",
     "output_type": "error",
     "traceback": [
      "\u001b[0;31m---------------------------------------------------------------------------\u001b[0m",
      "\u001b[0;31mKeyboardInterrupt\u001b[0m                         Traceback (most recent call last)",
      "Cell \u001b[0;32mIn[10], line 51\u001b[0m\n\u001b[1;32m     47\u001b[0m labels \u001b[38;5;241m=\u001b[39m labels\u001b[38;5;241m.\u001b[39mto(device)\n\u001b[1;32m     49\u001b[0m data \u001b[38;5;241m=\u001b[39m data\u001b[38;5;241m.\u001b[39mpermute(\u001b[38;5;241m1\u001b[39m, \u001b[38;5;241m0\u001b[39m, \u001b[38;5;241m2\u001b[39m)\n\u001b[0;32m---> 51\u001b[0m spk_rec, mem_rec \u001b[38;5;241m=\u001b[39m \u001b[43mnet\u001b[49m\u001b[43m(\u001b[49m\u001b[43mdata\u001b[49m\u001b[43m)\u001b[49m\n\u001b[1;32m     53\u001b[0m \u001b[38;5;66;03m# accuracy\u001b[39;00m\n\u001b[1;32m     54\u001b[0m v, ind \u001b[38;5;241m=\u001b[39m spk_rec\u001b[38;5;241m.\u001b[39msum(dim\u001b[38;5;241m=\u001b[39m\u001b[38;5;241m0\u001b[39m)\u001b[38;5;241m.\u001b[39mmax(\u001b[38;5;241m1\u001b[39m)\n",
      "File \u001b[0;32m~/dev/neuromorphic/neurovenv/lib/python3.12/site-packages/torch/nn/modules/module.py:1736\u001b[0m, in \u001b[0;36mModule._wrapped_call_impl\u001b[0;34m(self, *args, **kwargs)\u001b[0m\n\u001b[1;32m   1734\u001b[0m     \u001b[38;5;28;01mreturn\u001b[39;00m \u001b[38;5;28mself\u001b[39m\u001b[38;5;241m.\u001b[39m_compiled_call_impl(\u001b[38;5;241m*\u001b[39margs, \u001b[38;5;241m*\u001b[39m\u001b[38;5;241m*\u001b[39mkwargs)  \u001b[38;5;66;03m# type: ignore[misc]\u001b[39;00m\n\u001b[1;32m   1735\u001b[0m \u001b[38;5;28;01melse\u001b[39;00m:\n\u001b[0;32m-> 1736\u001b[0m     \u001b[38;5;28;01mreturn\u001b[39;00m \u001b[38;5;28;43mself\u001b[39;49m\u001b[38;5;241;43m.\u001b[39;49m\u001b[43m_call_impl\u001b[49m\u001b[43m(\u001b[49m\u001b[38;5;241;43m*\u001b[39;49m\u001b[43margs\u001b[49m\u001b[43m,\u001b[49m\u001b[43m \u001b[49m\u001b[38;5;241;43m*\u001b[39;49m\u001b[38;5;241;43m*\u001b[39;49m\u001b[43mkwargs\u001b[49m\u001b[43m)\u001b[49m\n",
      "File \u001b[0;32m~/dev/neuromorphic/neurovenv/lib/python3.12/site-packages/torch/nn/modules/module.py:1747\u001b[0m, in \u001b[0;36mModule._call_impl\u001b[0;34m(self, *args, **kwargs)\u001b[0m\n\u001b[1;32m   1742\u001b[0m \u001b[38;5;66;03m# If we don't have any hooks, we want to skip the rest of the logic in\u001b[39;00m\n\u001b[1;32m   1743\u001b[0m \u001b[38;5;66;03m# this function, and just call forward.\u001b[39;00m\n\u001b[1;32m   1744\u001b[0m \u001b[38;5;28;01mif\u001b[39;00m \u001b[38;5;129;01mnot\u001b[39;00m (\u001b[38;5;28mself\u001b[39m\u001b[38;5;241m.\u001b[39m_backward_hooks \u001b[38;5;129;01mor\u001b[39;00m \u001b[38;5;28mself\u001b[39m\u001b[38;5;241m.\u001b[39m_backward_pre_hooks \u001b[38;5;129;01mor\u001b[39;00m \u001b[38;5;28mself\u001b[39m\u001b[38;5;241m.\u001b[39m_forward_hooks \u001b[38;5;129;01mor\u001b[39;00m \u001b[38;5;28mself\u001b[39m\u001b[38;5;241m.\u001b[39m_forward_pre_hooks\n\u001b[1;32m   1745\u001b[0m         \u001b[38;5;129;01mor\u001b[39;00m _global_backward_pre_hooks \u001b[38;5;129;01mor\u001b[39;00m _global_backward_hooks\n\u001b[1;32m   1746\u001b[0m         \u001b[38;5;129;01mor\u001b[39;00m _global_forward_hooks \u001b[38;5;129;01mor\u001b[39;00m _global_forward_pre_hooks):\n\u001b[0;32m-> 1747\u001b[0m     \u001b[38;5;28;01mreturn\u001b[39;00m \u001b[43mforward_call\u001b[49m\u001b[43m(\u001b[49m\u001b[38;5;241;43m*\u001b[39;49m\u001b[43margs\u001b[49m\u001b[43m,\u001b[49m\u001b[43m \u001b[49m\u001b[38;5;241;43m*\u001b[39;49m\u001b[38;5;241;43m*\u001b[39;49m\u001b[43mkwargs\u001b[49m\u001b[43m)\u001b[49m\n\u001b[1;32m   1749\u001b[0m result \u001b[38;5;241m=\u001b[39m \u001b[38;5;28;01mNone\u001b[39;00m\n\u001b[1;32m   1750\u001b[0m called_always_called_hooks \u001b[38;5;241m=\u001b[39m \u001b[38;5;28mset\u001b[39m()\n",
      "Cell \u001b[0;32mIn[7], line 34\u001b[0m, in \u001b[0;36mSNN.forward\u001b[0;34m(self, x)\u001b[0m\n\u001b[1;32m     32\u001b[0m spk2, mem2 \u001b[38;5;241m=\u001b[39m \u001b[38;5;28mself\u001b[39m\u001b[38;5;241m.\u001b[39mlif2(cur2, mem2)\n\u001b[1;32m     33\u001b[0m cur3 \u001b[38;5;241m=\u001b[39m \u001b[38;5;28mself\u001b[39m\u001b[38;5;241m.\u001b[39mfc3(spk2)\n\u001b[0;32m---> 34\u001b[0m spk3, mem3 \u001b[38;5;241m=\u001b[39m \u001b[38;5;28;43mself\u001b[39;49m\u001b[38;5;241;43m.\u001b[39;49m\u001b[43mlif3\u001b[49m\u001b[43m(\u001b[49m\u001b[43mcur3\u001b[49m\u001b[43m,\u001b[49m\u001b[43m \u001b[49m\u001b[43mmem3\u001b[49m\u001b[43m)\u001b[49m\n\u001b[1;32m     36\u001b[0m spikes\u001b[38;5;241m.\u001b[39mappend(spk3)\n\u001b[1;32m     37\u001b[0m mem_rec\u001b[38;5;241m.\u001b[39mappend(mem3)\n",
      "File \u001b[0;32m~/dev/neuromorphic/neurovenv/lib/python3.12/site-packages/torch/nn/modules/module.py:1736\u001b[0m, in \u001b[0;36mModule._wrapped_call_impl\u001b[0;34m(self, *args, **kwargs)\u001b[0m\n\u001b[1;32m   1734\u001b[0m     \u001b[38;5;28;01mreturn\u001b[39;00m \u001b[38;5;28mself\u001b[39m\u001b[38;5;241m.\u001b[39m_compiled_call_impl(\u001b[38;5;241m*\u001b[39margs, \u001b[38;5;241m*\u001b[39m\u001b[38;5;241m*\u001b[39mkwargs)  \u001b[38;5;66;03m# type: ignore[misc]\u001b[39;00m\n\u001b[1;32m   1735\u001b[0m \u001b[38;5;28;01melse\u001b[39;00m:\n\u001b[0;32m-> 1736\u001b[0m     \u001b[38;5;28;01mreturn\u001b[39;00m \u001b[38;5;28;43mself\u001b[39;49m\u001b[38;5;241;43m.\u001b[39;49m\u001b[43m_call_impl\u001b[49m\u001b[43m(\u001b[49m\u001b[38;5;241;43m*\u001b[39;49m\u001b[43margs\u001b[49m\u001b[43m,\u001b[49m\u001b[43m \u001b[49m\u001b[38;5;241;43m*\u001b[39;49m\u001b[38;5;241;43m*\u001b[39;49m\u001b[43mkwargs\u001b[49m\u001b[43m)\u001b[49m\n",
      "File \u001b[0;32m~/dev/neuromorphic/neurovenv/lib/python3.12/site-packages/torch/nn/modules/module.py:1747\u001b[0m, in \u001b[0;36mModule._call_impl\u001b[0;34m(self, *args, **kwargs)\u001b[0m\n\u001b[1;32m   1742\u001b[0m \u001b[38;5;66;03m# If we don't have any hooks, we want to skip the rest of the logic in\u001b[39;00m\n\u001b[1;32m   1743\u001b[0m \u001b[38;5;66;03m# this function, and just call forward.\u001b[39;00m\n\u001b[1;32m   1744\u001b[0m \u001b[38;5;28;01mif\u001b[39;00m \u001b[38;5;129;01mnot\u001b[39;00m (\u001b[38;5;28mself\u001b[39m\u001b[38;5;241m.\u001b[39m_backward_hooks \u001b[38;5;129;01mor\u001b[39;00m \u001b[38;5;28mself\u001b[39m\u001b[38;5;241m.\u001b[39m_backward_pre_hooks \u001b[38;5;129;01mor\u001b[39;00m \u001b[38;5;28mself\u001b[39m\u001b[38;5;241m.\u001b[39m_forward_hooks \u001b[38;5;129;01mor\u001b[39;00m \u001b[38;5;28mself\u001b[39m\u001b[38;5;241m.\u001b[39m_forward_pre_hooks\n\u001b[1;32m   1745\u001b[0m         \u001b[38;5;129;01mor\u001b[39;00m _global_backward_pre_hooks \u001b[38;5;129;01mor\u001b[39;00m _global_backward_hooks\n\u001b[1;32m   1746\u001b[0m         \u001b[38;5;129;01mor\u001b[39;00m _global_forward_hooks \u001b[38;5;129;01mor\u001b[39;00m _global_forward_pre_hooks):\n\u001b[0;32m-> 1747\u001b[0m     \u001b[38;5;28;01mreturn\u001b[39;00m \u001b[43mforward_call\u001b[49m\u001b[43m(\u001b[49m\u001b[38;5;241;43m*\u001b[39;49m\u001b[43margs\u001b[49m\u001b[43m,\u001b[49m\u001b[43m \u001b[49m\u001b[38;5;241;43m*\u001b[39;49m\u001b[38;5;241;43m*\u001b[39;49m\u001b[43mkwargs\u001b[49m\u001b[43m)\u001b[49m\n\u001b[1;32m   1749\u001b[0m result \u001b[38;5;241m=\u001b[39m \u001b[38;5;28;01mNone\u001b[39;00m\n\u001b[1;32m   1750\u001b[0m called_always_called_hooks \u001b[38;5;241m=\u001b[39m \u001b[38;5;28mset\u001b[39m()\n",
      "File \u001b[0;32m~/dev/neuromorphic/neurovenv/lib/python3.12/site-packages/snntorch/_neurons/leaky.py:220\u001b[0m, in \u001b[0;36mLeaky.forward\u001b[0;34m(self, input_, mem)\u001b[0m\n\u001b[1;32m    216\u001b[0m     spk \u001b[38;5;241m=\u001b[39m \u001b[38;5;28mself\u001b[39m\u001b[38;5;241m.\u001b[39mfire_inhibition(\n\u001b[1;32m    217\u001b[0m         \u001b[38;5;28mself\u001b[39m\u001b[38;5;241m.\u001b[39mmem\u001b[38;5;241m.\u001b[39msize(\u001b[38;5;241m0\u001b[39m), \u001b[38;5;28mself\u001b[39m\u001b[38;5;241m.\u001b[39mmem\n\u001b[1;32m    218\u001b[0m     )  \u001b[38;5;66;03m# batch_size\u001b[39;00m\n\u001b[1;32m    219\u001b[0m \u001b[38;5;28;01melse\u001b[39;00m:\n\u001b[0;32m--> 220\u001b[0m     spk \u001b[38;5;241m=\u001b[39m \u001b[38;5;28;43mself\u001b[39;49m\u001b[38;5;241;43m.\u001b[39;49m\u001b[43mfire\u001b[49m\u001b[43m(\u001b[49m\u001b[38;5;28;43mself\u001b[39;49m\u001b[38;5;241;43m.\u001b[39;49m\u001b[43mmem\u001b[49m\u001b[43m)\u001b[49m\n\u001b[1;32m    222\u001b[0m \u001b[38;5;28;01mif\u001b[39;00m \u001b[38;5;129;01mnot\u001b[39;00m \u001b[38;5;28mself\u001b[39m\u001b[38;5;241m.\u001b[39mreset_delay:\n\u001b[1;32m    223\u001b[0m     do_reset \u001b[38;5;241m=\u001b[39m (\n\u001b[1;32m    224\u001b[0m         spk \u001b[38;5;241m/\u001b[39m \u001b[38;5;28mself\u001b[39m\u001b[38;5;241m.\u001b[39mgraded_spikes_factor \u001b[38;5;241m-\u001b[39m \u001b[38;5;28mself\u001b[39m\u001b[38;5;241m.\u001b[39mreset\n\u001b[1;32m    225\u001b[0m     )  \u001b[38;5;66;03m# avoid double reset\u001b[39;00m\n",
      "File \u001b[0;32m~/dev/neuromorphic/neurovenv/lib/python3.12/site-packages/snntorch/_neurons/neurons.py:81\u001b[0m, in \u001b[0;36mSpikingNeuron.fire\u001b[0;34m(self, mem)\u001b[0m\n\u001b[1;32m     78\u001b[0m     mem \u001b[38;5;241m=\u001b[39m \u001b[38;5;28mself\u001b[39m\u001b[38;5;241m.\u001b[39mstate_quant(mem)\n\u001b[1;32m     80\u001b[0m mem_shift \u001b[38;5;241m=\u001b[39m mem \u001b[38;5;241m-\u001b[39m \u001b[38;5;28mself\u001b[39m\u001b[38;5;241m.\u001b[39mthreshold\n\u001b[0;32m---> 81\u001b[0m spk \u001b[38;5;241m=\u001b[39m \u001b[38;5;28;43mself\u001b[39;49m\u001b[38;5;241;43m.\u001b[39;49m\u001b[43mspike_grad\u001b[49m\u001b[43m(\u001b[49m\u001b[43mmem_shift\u001b[49m\u001b[43m)\u001b[49m\n\u001b[1;32m     83\u001b[0m spk \u001b[38;5;241m=\u001b[39m spk \u001b[38;5;241m*\u001b[39m \u001b[38;5;28mself\u001b[39m\u001b[38;5;241m.\u001b[39mgraded_spikes_factor\n\u001b[1;32m     85\u001b[0m \u001b[38;5;28;01mreturn\u001b[39;00m spk\n",
      "File \u001b[0;32m~/dev/neuromorphic/neurovenv/lib/python3.12/site-packages/snntorch/surrogate.py:211\u001b[0m, in \u001b[0;36matan.<locals>.inner\u001b[0;34m(x)\u001b[0m\n\u001b[1;32m    210\u001b[0m \u001b[38;5;28;01mdef\u001b[39;00m \u001b[38;5;21minner\u001b[39m(x):\n\u001b[0;32m--> 211\u001b[0m     \u001b[38;5;28;01mreturn\u001b[39;00m \u001b[43mATan\u001b[49m\u001b[38;5;241;43m.\u001b[39;49m\u001b[43mapply\u001b[49m\u001b[43m(\u001b[49m\u001b[43mx\u001b[49m\u001b[43m,\u001b[49m\u001b[43m \u001b[49m\u001b[43malpha\u001b[49m\u001b[43m)\u001b[49m\n",
      "File \u001b[0;32m~/dev/neuromorphic/neurovenv/lib/python3.12/site-packages/torch/autograd/function.py:575\u001b[0m, in \u001b[0;36mFunction.apply\u001b[0;34m(cls, *args, **kwargs)\u001b[0m\n\u001b[1;32m    572\u001b[0m \u001b[38;5;28;01mif\u001b[39;00m \u001b[38;5;129;01mnot\u001b[39;00m torch\u001b[38;5;241m.\u001b[39m_C\u001b[38;5;241m.\u001b[39m_are_functorch_transforms_active():\n\u001b[1;32m    573\u001b[0m     \u001b[38;5;66;03m# See NOTE: [functorch vjp and autograd interaction]\u001b[39;00m\n\u001b[1;32m    574\u001b[0m     args \u001b[38;5;241m=\u001b[39m _functorch\u001b[38;5;241m.\u001b[39mutils\u001b[38;5;241m.\u001b[39munwrap_dead_wrappers(args)\n\u001b[0;32m--> 575\u001b[0m     \u001b[38;5;28;01mreturn\u001b[39;00m \u001b[38;5;28;43msuper\u001b[39;49m\u001b[43m(\u001b[49m\u001b[43m)\u001b[49m\u001b[38;5;241;43m.\u001b[39;49m\u001b[43mapply\u001b[49m\u001b[43m(\u001b[49m\u001b[38;5;241;43m*\u001b[39;49m\u001b[43margs\u001b[49m\u001b[43m,\u001b[49m\u001b[43m \u001b[49m\u001b[38;5;241;43m*\u001b[39;49m\u001b[38;5;241;43m*\u001b[39;49m\u001b[43mkwargs\u001b[49m\u001b[43m)\u001b[49m  \u001b[38;5;66;03m# type: ignore[misc]\u001b[39;00m\n\u001b[1;32m    577\u001b[0m \u001b[38;5;28;01mif\u001b[39;00m \u001b[38;5;129;01mnot\u001b[39;00m is_setup_ctx_defined:\n\u001b[1;32m    578\u001b[0m     \u001b[38;5;28;01mraise\u001b[39;00m \u001b[38;5;167;01mRuntimeError\u001b[39;00m(\n\u001b[1;32m    579\u001b[0m         \u001b[38;5;124m\"\u001b[39m\u001b[38;5;124mIn order to use an autograd.Function with functorch transforms \u001b[39m\u001b[38;5;124m\"\u001b[39m\n\u001b[1;32m    580\u001b[0m         \u001b[38;5;124m\"\u001b[39m\u001b[38;5;124m(vmap, grad, jvp, jacrev, ...), it must override the setup_context \u001b[39m\u001b[38;5;124m\"\u001b[39m\n\u001b[1;32m    581\u001b[0m         \u001b[38;5;124m\"\u001b[39m\u001b[38;5;124mstaticmethod. For more details, please see \u001b[39m\u001b[38;5;124m\"\u001b[39m\n\u001b[1;32m    582\u001b[0m         \u001b[38;5;124m\"\u001b[39m\u001b[38;5;124mhttps://pytorch.org/docs/main/notes/extending.func.html\u001b[39m\u001b[38;5;124m\"\u001b[39m\n\u001b[1;32m    583\u001b[0m     )\n",
      "File \u001b[0;32m~/dev/neuromorphic/neurovenv/lib/python3.12/site-packages/snntorch/surrogate.py:190\u001b[0m, in \u001b[0;36mATan.forward\u001b[0;34m(ctx, input_, alpha)\u001b[0m\n\u001b[1;32m    188\u001b[0m ctx\u001b[38;5;241m.\u001b[39msave_for_backward(input_)\n\u001b[1;32m    189\u001b[0m ctx\u001b[38;5;241m.\u001b[39malpha \u001b[38;5;241m=\u001b[39m alpha\n\u001b[0;32m--> 190\u001b[0m out \u001b[38;5;241m=\u001b[39m \u001b[43m(\u001b[49m\u001b[43minput_\u001b[49m\u001b[43m \u001b[49m\u001b[38;5;241;43m>\u001b[39;49m\u001b[43m \u001b[49m\u001b[38;5;241;43m0\u001b[39;49m\u001b[43m)\u001b[49m\u001b[38;5;241;43m.\u001b[39;49m\u001b[43mfloat\u001b[49m\u001b[43m(\u001b[49m\u001b[43m)\u001b[49m\n\u001b[1;32m    191\u001b[0m \u001b[38;5;28;01mreturn\u001b[39;00m out\n",
      "\u001b[0;31mKeyboardInterrupt\u001b[0m: "
     ]
    }
   ],
   "source": [
    "# train\n",
    "loss = nn.CrossEntropyLoss()\n",
    "optimizer = torch.optim.Adam(net.parameters(), lr=5e-4, betas=(0.9, 0.999))\n",
    "\n",
    "ds_val = SpikesDataset(dm_val_data, torch.tensor(validation_labels))\n",
    "val_loader = DataLoader(ds_val, batch_size=6, shuffle=True)\n",
    "\n",
    "train_loss_log = []\n",
    "val_loss_log = []\n",
    "for i in range(1000):\n",
    "    print(f'Starting epoch {i}.')\n",
    "        \n",
    "    # train set run and update\n",
    "    net.train()\n",
    "    epoch_losses = []\n",
    "    for data, labels in loader:\n",
    "        data = data.to(device)\n",
    "        labels = labels.to(device)\n",
    "        \n",
    "        data = data.permute(1, 0, 2) # permute so we have right shape\n",
    "        \n",
    "        spk_rec, mem_rec = net(data)\n",
    "\n",
    "        # interesting part, we are doing cross entropy loss per timestep here\n",
    "        loss_val = torch.zeros((1), dtype=torch.float64, device=device)\n",
    "        for s in range(num_timesteps):\n",
    "            loss_val += loss(mem_rec[s], labels)\n",
    "            \n",
    "\n",
    "        optimizer.zero_grad()\n",
    "        loss_val.backward()\n",
    "        optimizer.step()\n",
    "\n",
    "        epoch_losses.append(loss_val.item())\n",
    "\n",
    "    print(f'Train loss: {sum(epoch_losses)/len(epoch_losses):.2f}')\n",
    "    train_loss_log.append(sum(epoch_losses)/len(epoch_losses))\n",
    "\n",
    "    # validation set\n",
    "    epoch_losses = []\n",
    "    with torch.no_grad():\n",
    "        net.eval()\n",
    "\n",
    "        correct = 0\n",
    "        for data, labels in val_loader:\n",
    "            data = data.to(device)\n",
    "            labels = labels.to(device)\n",
    "            \n",
    "            data = data.permute(1, 0, 2)\n",
    "\n",
    "            spk_rec, mem_rec = net(data)\n",
    "            \n",
    "            # accuracy\n",
    "            v, ind = spk_rec.sum(dim=0).max(1)\n",
    "            correct += (labels == ind).sum()\n",
    "\n",
    "            loss_val = torch.zeros((1), dtype=torch.float64, device=device)\n",
    "            for s in range(num_timesteps):\n",
    "                loss_val += loss(mem_rec[s], labels)\n",
    "\n",
    "            epoch_losses.append(loss_val.item())\n",
    "\n",
    "        print(f'Val loss: {sum(epoch_losses)/len(epoch_losses):.2f}')\n",
    "        val_loss_log.append(sum(epoch_losses)/len(epoch_losses))\n",
    "        print(f'Val accuracy: {(correct/len(ds_val))*100:.2f}')"
   ]
  },
  {
   "cell_type": "code",
   "execution_count": 11,
   "id": "892cd098-625a-42af-b711-1571c8a9b6c5",
   "metadata": {},
   "outputs": [
    {
     "data": {
      "text/plain": [
       "[<matplotlib.lines.Line2D at 0x7f6f38d86930>]"
      ]
     },
     "execution_count": 11,
     "metadata": {},
     "output_type": "execute_result"
    },
    {
     "data": {
      "image/png": "[encoded data removed]",
      "text/plain": [
       "<Figure size 640x480 with 1 Axes>"
      ]
     },
     "metadata": {},
     "output_type": "display_data"
    }
   ],
   "source": [
    "plt.plot(np.linspace(0, len(train_loss_log), len(train_loss_log)), train_loss_log)\n",
    "plt.plot(np.linspace(0, len(val_loss_log), len(val_loss_log)), val_loss_log)"
   ]
  },
  {
   "cell_type": "code",
   "execution_count": 11,
   "id": "f3a23f1f-d70a-43b3-8cd3-2b6c7ec7b33e",
   "metadata": {},
   "outputs": [
    {
     "name": "stdout",
     "output_type": "stream",
     "text": [
      "6\n",
      "6\n",
      "6\n",
      "6\n",
      "6\n",
      "6\n",
      "6\n",
      "6\n",
      "6\n",
      "6\n",
      "6\n",
      "6\n",
      "6\n",
      "6\n",
      "6\n",
      "6\n",
      "6\n",
      "6\n",
      "6\n",
      "6\n"
     ]
    }
   ],
   "source": [
    "net.eval()\n",
    "\n",
    "correct = 0\n",
    "for data, labels in val_loader:\n",
    "    print(len(data))\n",
    "    data = data.to(device)\n",
    "    labels = labels.to(device)\n",
    "    \n",
    "    data = data.permute(1, 0, 2)\n",
    "\n",
    "    spk_rec, mem_rec = net(data)\n",
    "    \n",
    "    # accuracy\n",
    "    v, ind = spk_rec.sum(dim=0).max(1)\n",
    "    correct += (labels == ind).sum()"
   ]
  },
  {
   "cell_type": "code",
   "execution_count": 12,
   "id": "1035203e-9105-4a6c-ae36-af60be091626",
   "metadata": {},
   "outputs": [
    {
     "name": "stdout",
     "output_type": "stream",
     "text": [
      "0.68\n"
     ]
    }
   ],
   "source": [
    "print(f'{correct/len(ds_val):.2f}')"
   ]
  },
  {
   "cell_type": "code",
   "execution_count": null,
   "id": "4785f86e-22d2-4b34-a460-819963b40db1",
   "metadata": {},
   "outputs": [],
   "source": []
  }
 ],
 "metadata": {
  "kernelspec": {
   "display_name": "Python 3 (ipykernel)",
   "language": "python",
   "name": "python3"
  },
  "language_info": {
   "codemirror_mode": {
    "name": "ipython",
    "version": 3
   },
   "file_extension": ".py",
   "mimetype": "text/x-python",
   "name": "python",
   "nbconvert_exporter": "python",
   "pygments_lexer": "ipython3",
   "version": "3.12.8"
  }
 },
 "nbformat": 4,
 "nbformat_minor": 5
}
