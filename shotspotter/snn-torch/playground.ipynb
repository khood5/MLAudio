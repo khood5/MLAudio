{
 "cells": [
  {
   "cell_type": "code",
   "execution_count": 57,
   "id": "994f7661-ab8f-4f82-a1ab-41672f3d051f",
   "metadata": {},
   "outputs": [],
   "source": [
    "import snntorch as snn\n",
    "from snntorch import spikeplot as splt\n",
    "from snntorch import spikegen\n",
    "\n",
    "import torch\n",
    "import torch.nn as nn\n",
    "import matplotlib.pyplot as plt\n",
    "\n",
    "from torch.utils.data import Dataset, DataLoader\n",
    "\n",
    "import numpy as np\n",
    "\n",
    "device = torch.device(\"cuda\" if torch.cuda.is_available() else \"cpu\")"
   ]
  },
  {
   "cell_type": "code",
   "execution_count": 58,
   "id": "2f0e8631-606f-400c-ae66-dc573699d255",
   "metadata": {},
   "outputs": [],
   "source": [
    "def read_spikes_from_disk(path):\n",
    "    data = np.load(path)\n",
    "\n",
    "    # compatability with old datasets\n",
    "    val_filenames = []\n",
    "    if 'validation_filenames' in data:\n",
    "        val_filenames = data['validation_filenames']\n",
    "\n",
    "    return data['train_set'], data['train_labels'], data['train_gunshot_data'], data['validation_set'], data['validation_labels'], data['validation_gunshot_data'], val_filenames, data['test_set'], data['test_labels']"
   ]
  },
  {
   "cell_type": "code",
   "execution_count": 59,
   "id": "de6abed1-1a61-4cea-a7ba-ae935db1f957",
   "metadata": {},
   "outputs": [],
   "source": [
    "# for now let's take the output from snn/make_dataset.py\n",
    "# it generates a DWT spectrogram matrix that is normalized to 0-1\n",
    "\n",
    "training_data, training_labels, _, validation_data, validation_labels, _, _, test_data, test_labels = read_spikes_from_disk('../snn/data/120-dwt.npz')"
   ]
  },
  {
   "cell_type": "code",
   "execution_count": 60,
   "id": "dc41ec22-e6a1-40b7-8ef1-1ba1a587a532",
   "metadata": {},
   "outputs": [],
   "source": [
    "training_data = torch.tensor(training_data)\n",
    "training_data = training_data.permute(2, 0, 1) \n",
    "\n",
    "# note: delta expects shape (timestep, batch, neuron), also used for input to snn\n",
    "dm_train_data = spikegen.delta(training_data, threshold=0.0075)\n",
    "\n",
    "# also do for val set\n",
    "val_data = torch.tensor(validation_data)\n",
    "val_data = val_data.permute(2, 0, 1) \n",
    "\n",
    "# note: delta expects shape (timestep, batch, neuron), also used for input to snn\n",
    "dm_val_data = spikegen.delta(val_data, threshold=0.0075)"
   ]
  },
  {
   "cell_type": "code",
   "execution_count": 61,
   "id": "f8d57789-a342-4b1f-914e-e16c577bac17",
   "metadata": {},
   "outputs": [
    {
     "data": {
      "image/png": "[encoded data removed]",
      "text/plain": [
       "<Figure size 1000x500 with 1 Axes>"
      ]
     },
     "metadata": {},
     "output_type": "display_data"
    }
   ],
   "source": [
    "# visualize one sample raster\n",
    "fig = plt.figure(facecolor=\"w\", figsize=(10, 5))\n",
    "ax = fig.add_subplot(111)\n",
    "splt.raster(dm_train_data[:, 40, :], ax, s=5, c=\"black\")\n",
    "\n",
    "plt.title(\"Input Layer\")\n",
    "plt.xlabel(\"Time step\")\n",
    "plt.ylim(-1,7)\n",
    "plt.ylabel(\"Neuron Number\")\n",
    "plt.show()"
   ]
  },
  {
   "cell_type": "code",
   "execution_count": 62,
   "id": "5272fc44-0283-4235-91c9-d18027c922b2",
   "metadata": {},
   "outputs": [],
   "source": [
    "# Now the network\n",
    "# Let's try a FFN\n",
    "# 7x250x250x2\n",
    "# see https://snntorch.readthedocs.io/en/latest/tutorials/tutorial_5.html\n",
    "beta = 0.9 # slow decay\n",
    "num_timesteps = dm_train_data.shape[0]\n",
    "\n",
    "class SNN(nn.Module):\n",
    "    def __init__(self):\n",
    "        super().__init__()\n",
    "        self.fc1 = nn.Linear(7, 250)\n",
    "        self.lif1 = snn.Leaky(beta=beta)\n",
    "        self.fc2 = nn.Linear(250, 250)\n",
    "        self.lif2 = snn.Leaky(beta=beta)\n",
    "        self.fc3 = nn.Linear(250, 2)\n",
    "        self.lif3 = snn.Leaky(beta=beta)\n",
    "\n",
    "    # x will be (timestep x batch x neuron) shape\n",
    "    def forward(self, x):\n",
    "        mem1 = self.lif1.init_leaky()\n",
    "        mem2 = self.lif2.init_leaky()\n",
    "        mem3 = self.lif3.init_leaky()\n",
    "\n",
    "        spikes = []\n",
    "        mem_rec = []\n",
    "\n",
    "        # Note: one timestep is a full pass\n",
    "        for step in range(num_timesteps):\n",
    "            cur1 = self.fc1(x[step])\n",
    "            spk1, mem1 = self.lif1(cur1, mem1)\n",
    "            cur2 = self.fc2(spk1)\n",
    "            spk2, mem2 = self.lif2(cur2, mem2)\n",
    "            cur3 = self.fc3(spk2)\n",
    "            spk3, mem3 = self.lif3(cur3, mem3)\n",
    "\n",
    "            spikes.append(spk3)\n",
    "            mem_rec.append(mem3)\n",
    "\n",
    "        return torch.stack(spikes, dim=0), torch.stack(mem_rec, dim=0)\n",
    "\n",
    "net = SNN().to(device)"
   ]
  },
  {
   "cell_type": "code",
   "execution_count": 63,
   "id": "fb8aa669-a559-4853-a782-751f37c68110",
   "metadata": {},
   "outputs": [],
   "source": [
    "# dataset for batches\n",
    "class SpikesDataset(Dataset):\n",
    "    def __init__(self, data, labels):\n",
    "        self.data = data\n",
    "        self.labels = labels\n",
    "\n",
    "    def __len__(self):\n",
    "        return self.data.shape[1]\n",
    "\n",
    "    def __getitem__(self, index):\n",
    "        return self.data[:, index, :], self.labels[index]\n",
    "\n",
    "ds = SpikesDataset(dm_train_data, torch.tensor(training_labels))\n",
    "loader = DataLoader(ds, batch_size=12, shuffle=True)"
   ]
  },
  {
   "cell_type": "code",
   "execution_count": null,
   "id": "573b904e-5472-4834-8af6-da214d4ea2de",
   "metadata": {},
   "outputs": [
    {
     "name": "stdout",
     "output_type": "stream",
     "text": [
      "Starting epoch 0.\n",
      "436.278094291687\n",
      "352.38512152433395\n",
      "335.44750452041626\n",
      "330.28660267591476\n",
      "331.9217260479927\n",
      "337.19440829753876\n",
      "319.23314225673676\n",
      "321.58466070890427\n",
      "Starting epoch 1.\n",
      "320.27762228250504\n",
      "319.171572804451\n",
      "311.7026365995407\n",
      "301.89963883161545\n",
      "354.6128275990486\n",
      "320.9567646384239\n",
      "322.7885023355484\n",
      "329.78730952739716\n",
      "Starting epoch 2.\n",
      "295.65168911218643\n",
      "341.2515126466751\n",
      "329.65614783763885\n",
      "319.1416806578636\n",
      "308.3727328181267\n",
      "300.37775403261185\n",
      "314.21952372789383\n",
      "324.76153588294983\n",
      "Starting epoch 3.\n",
      "315.11431634426117\n",
      "311.36003851890564\n",
      "335.0270713567734\n",
      "306.2348506450653\n",
      "313.3068300485611\n",
      "320.5168830752373\n",
      "307.6228258609772\n",
      "314.6908708810806\n",
      "Starting epoch 4.\n",
      "292.8193829655647\n",
      "336.25005573034286\n",
      "289.9637218117714\n",
      "292.49631118774414\n",
      "341.4757053256035\n",
      "365.6167190670967\n",
      "346.29645973443985\n",
      "309.0700031518936\n",
      "Starting epoch 5.\n",
      "283.99545907974243\n",
      "334.4771234989166\n",
      "364.03457540273666\n",
      "278.974762737751\n",
      "326.21208238601685\n"
     ]
    }
   ],
   "source": [
    "# train\n",
    "loss = nn.CrossEntropyLoss()\n",
    "optimizer = torch.optim.Adam(net.parameters(), lr=5e-4, betas=(0.9, 0.999))\n",
    "\n",
    "ds_test = SpikesDataset(dm_val_data, torch.tensor(validation_labels))\n",
    "test_loader = DataLoader(ds_test, batch_size=12, shuffle=True)\n",
    "\n",
    "loss_log = []\n",
    "for i in range(10):\n",
    "    print(f'Starting epoch {i}.')\n",
    "    #with torch.no_grad():\n",
    "        #net.eval()\n",
    "        \n",
    "\n",
    "    net.train()\n",
    "    for data, labels in loader:\n",
    "        data = data.to(device)\n",
    "        labels = labels.to(device)\n",
    "        \n",
    "        data = data.permute(1, 0, 2) # permute so we have right shape\n",
    "        \n",
    "        spk_rec, mem_rec = net(data)\n",
    "\n",
    "        # interesting part, we are doing cross entropy loss per timestep here\n",
    "        loss_val = torch.zeros((1), dtype=torch.float64, device=device)\n",
    "        for s in range(num_timesteps):\n",
    "            loss_val += loss(mem_rec[s], labels)\n",
    "            \n",
    "\n",
    "        optimizer.zero_grad()\n",
    "        loss_val.backward()\n",
    "        optimizer.step()\n",
    "\n",
    "        print(loss_val.item())\n",
    "        loss_log.append(loss_val.item())"
   ]
  },
  {
   "cell_type": "code",
   "execution_count": null,
   "id": "e3cfaa91-774e-4d2d-b02f-798aaa3421c4",
   "metadata": {},
   "outputs": [],
   "source": [
    "y = net(dm_train_data[:, 0, :].unsqueeze(1).to(device))\n",
    "y[1][:, 0, 0]"
   ]
  },
  {
   "cell_type": "code",
   "execution_count": null,
   "id": "6520f983-cf37-4315-9600-a4228c544fc9",
   "metadata": {},
   "outputs": [],
   "source": []
  }
 ],
 "metadata": {
  "kernelspec": {
   "display_name": "Python 3 (ipykernel)",
   "language": "python",
   "name": "python3"
  },
  "language_info": {
   "codemirror_mode": {
    "name": "ipython",
    "version": 3
   },
   "file_extension": ".py",
   "mimetype": "text/x-python",
   "name": "python",
   "nbconvert_exporter": "python",
   "pygments_lexer": "ipython3",
   "version": "3.12.8"
  }
 },
 "nbformat": 4,
 "nbformat_minor": 5
}
