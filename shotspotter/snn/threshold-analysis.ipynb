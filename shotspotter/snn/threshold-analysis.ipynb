{
 "cells": [
  {
   "cell_type": "markdown",
   "id": "75d5b877-ff16-480d-a96f-cd670f76ffff",
   "metadata": {},
   "source": [
    "# Analysis of trained networks to determine threshold for gunshots"
   ]
  },
  {
   "cell_type": "code",
   "execution_count": 85,
   "id": "0c758543-975d-43dd-8445-db29ca96e24f",
   "metadata": {},
   "outputs": [],
   "source": [
    "import argparse\n",
    "import eons\n",
    "import neuro\n",
    "import risp\n",
    "import speech2spikes\n",
    "import os\n",
    "import torchaudio\n",
    "import torch\n",
    "import random\n",
    "import matplotlib.pyplot as plt\n",
    "import numpy as np\n",
    "import multiprocessing\n",
    "from multiprocessing import shared_memory\n",
    "import signal\n",
    "import time\n",
    "import functools\n",
    "import json\n",
    "from common import risp_config, read_spikes_from_disk, network_details\n",
    "import matplotlib.pyplot as plt\n",
    "\n",
    "DATASET_PATH = './data/1200-dwt-gunshot-data.npz'\n",
    "NETWORK_PATH = './new-fit-2/best.json'\n",
    "PROC_RUN_TIMESTEPS = 500\n",
    "MODE = 'dwt'"
   ]
  },
  {
   "cell_type": "code",
   "execution_count": 86,
   "id": "fc2519d8-3521-42d8-86da-01a924c54161",
   "metadata": {},
   "outputs": [],
   "source": [
    "proc = risp.Processor(risp_config)\n",
    "\n",
    "_, _, _, val_spikes, val_labels, val_gunshot_data, _, _ = read_spikes_from_disk(DATASET_PATH)"
   ]
  },
  {
   "cell_type": "code",
   "execution_count": 87,
   "id": "c0cbeef7-fac8-421a-890b-b6b488e2c2d0",
   "metadata": {},
   "outputs": [
    {
     "data": {
      "text/plain": [
       "True"
      ]
     },
     "execution_count": 87,
     "metadata": {},
     "output_type": "execute_result"
    }
   ],
   "source": [
    "network = neuro.Network()\n",
    "with open(NETWORK_PATH, 'r') as f:\n",
    "    net_json = json.load(f)\n",
    "network.from_json(net_json)\n",
    "\n",
    "proc.load_network(network)"
   ]
  },
  {
   "cell_type": "code",
   "execution_count": 88,
   "id": "fed1ad7a-c228-46ea-96f5-b1c1f33da274",
   "metadata": {},
   "outputs": [],
   "source": [
    "def compute_fitness(spikes, labels, gunshot_data, reconstruct_spikes=False):\n",
    "    if reconstruct_spikes:\n",
    "        rec_spikes = []\n",
    "\n",
    "        if MODE == 's2s':\n",
    "            for i in range(len(spikes)):\n",
    "                rec_spikes.append([])\n",
    "\n",
    "                for j in range(len(spikes[i])):\n",
    "                    rec_spikes[i].append([])\n",
    "                    \n",
    "                    for spk in spikes[i][j]:\n",
    "                        if spk[2] == 1:\n",
    "                            rec_spikes[i][j].append(neuro.Spike(spk[0], spk[1], spk[2]))\n",
    "                    \n",
    "        elif MODE == 'samples':\n",
    "            for i in range(len(spikes)): \n",
    "                rec_spikes.append([])\n",
    "                \n",
    "                for j in range(len(spikes[0])):\n",
    "                    # id, time, value\n",
    "                    rec_spikes[i].append(neuro.Spike(0, j, spikes[i][j]))\n",
    "\n",
    "        elif MODE == 'dwt':\n",
    "            for i in range(spikes.shape[0]):\n",
    "                rec_spikes.append([])\n",
    "\n",
    "                for j in range(spikes.shape[1]):\n",
    "                    rec_spikes[i].append([])\n",
    "\n",
    "                    for k in range(spikes.shape[2]):\n",
    "                        #print(f'Creating Spike({j}, {k}, {shared_spikes_arr[i][j][k]})')\n",
    "                        rec_spikes[i][j].append(neuro.Spike(j, k, spikes[i][j][k]))\n",
    "\n",
    "        spikes = rec_spikes\n",
    "\n",
    "    timesteps_from_data = len(spikes[0][0]) if MODE != 'samples' else 24000\n",
    "    \n",
    "    #differences = [] # track difference between gunshot and background neurons while gunshot is active\n",
    "    \n",
    "    # NOTE: has new meaning here (compared to train_script.py): just the total number of gunshot output neuron spikes regardless of label\n",
    "    gunshot_spikes = [] # each entry is tuple where (label, gunshot_spikes) \n",
    "    for i in range(len(spikes)):\n",
    "        proc.clear_activity()\n",
    "\n",
    "        # apparently clear_activity resets this\n",
    "        proc.track_output_events(0)\n",
    "        proc.track_output_events(1)\n",
    "\n",
    "        if MODE == 's2s' or MODE == 'dwt' or MODE == 'spec':\n",
    "            for c in spikes[i]: # spikes[i] is a single training sample\n",
    "                proc.apply_spikes(c)\n",
    "        elif MODE == 'samples':\n",
    "            proc.apply_spikes(spikes[i])\n",
    "\n",
    "        proc.run(PROC_RUN_TIMESTEPS)\n",
    "        gunshot_spikes.append((int(labels[i]), proc.output_counts()[1]))\n",
    "\n",
    "        # # translation from time (0-2s) to timesteps\n",
    "        # if labels[i] == 1:\n",
    "        #     secs_per_timestep = 2 / timesteps_from_data\n",
    "        #     active_between = gunshot_data[i] / secs_per_timestep # timesteps of input where gunshot audio is active\n",
    "\n",
    "        #     # I am pretty sure that all gunshots start at a point, then go until/beyond the end of 2s in every scenario\n",
    "        #     # due to how data is generated\n",
    "        #     active_between[1] = timesteps_from_data\n",
    "\n",
    "        #     active_between = active_between.astype(np.int64)\n",
    "        # else:\n",
    "        #     active_between = [0, PROC_RUN_TIMESTEPS]\n",
    "\n",
    "        # proc.run(PROC_RUN_TIMESTEPS)\n",
    "\n",
    "        # vec_0, vec_1 = proc.output_vectors()\n",
    "\n",
    "        # vec_0_count = 0\n",
    "        # for s in vec_0:\n",
    "        #     if s >= active_between[0] and s <= active_between[1]:\n",
    "        #         vec_0_count += 1\n",
    "\n",
    "        # vec_1_count = 0\n",
    "        # for s in vec_1:\n",
    "        #     if s >= active_between[0] and s <= active_between[1]:\n",
    "        #         vec_1_count += 1\n",
    "\n",
    "        # if labels[i] == 1:\n",
    "        #     differences.append(vec_1_count-vec_0_count)\n",
    "        # else:\n",
    "        #     gunshot_spikes.append(len(vec_1))\n",
    "    \n",
    "    # idea here is that the first term pushes our networks towards those that can differentiate between gunshots and noise the most \n",
    "    # while gunshot is happening, in combination with being able to not spike the gunshot neuron as much when only background sounds are happening\n",
    "    return np.array(gunshot_spikes)"
   ]
  },
  {
   "cell_type": "code",
   "execution_count": 89,
   "id": "78630b2d-fda2-485c-b4a8-e7fc3eacd5e4",
   "metadata": {},
   "outputs": [],
   "source": [
    "gunshot_spikes = compute_fitness(val_spikes, val_labels, val_gunshot_data, reconstruct_spikes=True)"
   ]
  },
  {
   "cell_type": "code",
   "execution_count": 90,
   "id": "2a3e9683-7bf8-48b3-b9e8-627c47bffcb2",
   "metadata": {},
   "outputs": [
    {
     "data": {
      "text/plain": [
       "<matplotlib.collections.PathCollection at 0x7fbab5ee3e00>"
      ]
     },
     "execution_count": 90,
     "metadata": {},
     "output_type": "execute_result"
    },
    {
     "data": {
      "image/png": "[encoded data removed]",
      "text/plain": [
       "<Figure size 640x480 with 1 Axes>"
      ]
     },
     "metadata": {},
     "output_type": "display_data"
    }
   ],
   "source": [
    "plt.xlabel('sample')\n",
    "plt.ylabel('Gunshot Neuron Spikes')\n",
    "\n",
    "plt.scatter(np.linspace(0, len(gunshot_spikes), len(gunshot_spikes)), [i[1] for i in gunshot_spikes])"
   ]
  },
  {
   "cell_type": "code",
   "execution_count": 91,
   "id": "d129f340-9ff5-471a-8163-f18c15849a63",
   "metadata": {},
   "outputs": [
    {
     "name": "stdout",
     "output_type": "stream",
     "text": [
      "0.6833333333333333\n"
     ]
    }
   ],
   "source": [
    "# pretty clear threshold\n",
    "# now let's compute accuracy\n",
    "correct = 0\n",
    "total = len(val_labels)\n",
    "for i in range(total):\n",
    "    if val_labels[i] == 1 and gunshot_spikes[i, 1] > 100:\n",
    "        correct += 1\n",
    "    elif val_labels[i] == 0 and gunshot_spikes[i, 1] <= 100:\n",
    "        correct += 1\n",
    "\n",
    "print(correct/total)"
   ]
  },
  {
   "cell_type": "code",
   "execution_count": null,
   "id": "eb7b0c85-a11a-4121-89e6-45f16ac02437",
   "metadata": {},
   "outputs": [],
   "source": []
  }
 ],
 "metadata": {
  "kernelspec": {
   "display_name": "Python 3 (ipykernel)",
   "language": "python",
   "name": "python3"
  },
  "language_info": {
   "codemirror_mode": {
    "name": "ipython",
    "version": 3
   },
   "file_extension": ".py",
   "mimetype": "text/x-python",
   "name": "python",
   "nbconvert_exporter": "python",
   "pygments_lexer": "ipython3",
   "version": "3.12.8"
  }
 },
 "nbformat": 4,
 "nbformat_minor": 5
}
