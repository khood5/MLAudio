{
 "cells": [
  {
   "cell_type": "code",
   "execution_count": 3,
   "id": "3db7fa4e-2e45-4d42-83a6-963d45ae8420",
   "metadata": {},
   "outputs": [],
   "source": [
    "import numpy as np\n",
    "import matplotlib.pyplot as plt\n",
    "\n",
    "PATH = \"./results/dwt-1200-pi-log-?.csv\" # replace ? with run number "
   ]
  },
  {
   "cell_type": "code",
   "execution_count": 20,
   "id": "d53da37c-c4d1-4ecc-9f09-112b4bcb8b38",
   "metadata": {},
   "outputs": [
    {
     "name": "stdout",
     "output_type": "stream",
     "text": [
      "Average wattage for run 0 was 3.127w, Average consumption 4.534j\n",
      "Average wattage for run 1 was 3.987w, Average consumption 4.545j\n",
      "Average wattage for run 2 was 3.552w, Average consumption 4.653j\n",
      "Average wattage for run 3 was 3.504w, Average consumption 4.800j\n",
      "Average wattage for run 4 was 3.564w, Average consumption 4.634j\n",
      "Overall Average wattage: 3.547w\n",
      "Overall Average energy: 4.633j\n"
     ]
    }
   ],
   "source": [
    "wattages = []\n",
    "run_times = [1.45, 1.14, 1.31, 1.37, 1.30] # recorded manually, see screenshots\n",
    "energies = []\n",
    "for i in range(5):\n",
    "    csv_path = PATH.replace('?', str(i))\n",
    "\n",
    "    with open(csv_path, 'r') as f:\n",
    "        data = [float(l.replace('\\n', '')) for l in f.readlines()]\n",
    "        wattages.append(sum(data)/len(data))\n",
    "        energies.append(run_times[i]*wattages[-1])\n",
    "        print(f'Average wattage for run {i} was {wattages[-1]:.3f}w, Average consumption {energies[-1]:.3f}j')\n",
    "\n",
    "print(f'Overall Average wattage: {sum(wattages)/len(wattages):.3f}w')\n",
    "print(f'Overall Average energy: {sum(energies)/len(energies):.3f}j')"
   ]
  },
  {
   "cell_type": "code",
   "execution_count": null,
   "id": "635be65b-3ef4-43e3-8a58-2f9ddc8e4dae",
   "metadata": {},
   "outputs": [],
   "source": []
  }
 ],
 "metadata": {
  "kernelspec": {
   "display_name": "Python 3 (ipykernel)",
   "language": "python",
   "name": "python3"
  },
  "language_info": {
   "codemirror_mode": {
    "name": "ipython",
    "version": 3
   },
   "file_extension": ".py",
   "mimetype": "text/x-python",
   "name": "python",
   "nbconvert_exporter": "python",
   "pygments_lexer": "ipython3",
   "version": "3.12.8"
  }
 },
 "nbformat": 4,
 "nbformat_minor": 5
}
