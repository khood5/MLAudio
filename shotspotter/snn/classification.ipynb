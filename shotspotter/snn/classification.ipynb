{
 "cells": [
  {
   "cell_type": "code",
   "execution_count": 1,
   "id": "296184ea-9259-4dbe-a1e0-2e54595131b4",
   "metadata": {},
   "outputs": [],
   "source": [
    "import eons\n",
    "import neuro\n",
    "import speech2spikes\n",
    "import os\n",
    "import torchaudio\n",
    "import torch\n",
    "\n",
    "PATH_SOUNDS = '/home/joao/dev/MLAudio/shotspotter/data/gunshots'\n",
    "\n",
    "# Look into possible enabling cumsum (see github)\n",
    "s2s = speech2spikes.S2S()\n",
    "\n",
    "# workaround to configure to 12khz sample rate (s2s.configure() didnt work)\n",
    "s2s._default_spec_kwargs = {\n",
    "    \"sample_rate\": 12000,\n",
    "    \"n_mels\": 20,\n",
    "    \"n_fft\": 512,\n",
    "    \"f_min\": 20,\n",
    "    \"f_max\": 4000,\n",
    "    \"hop_length\": 80,\n",
    "}\n",
    "s2s.transform = torchaudio.transforms.MelSpectrogram(**s2s._default_spec_kwargs)\n",
    "\n",
    "# Some constants\n",
    "NUM_INPUT_NEURONS = 80 # see paper\n",
    "NUM_OUTPUT_NEURONS = 2"
   ]
  },
  {
   "cell_type": "code",
   "execution_count": 2,
   "id": "f516ca5e-af5f-4ec6-8e4f-ec9cdfc2ba17",
   "metadata": {},
   "outputs": [],
   "source": [
    "file_paths = [PATH_SOUNDS+'/'+fn for fn in os.listdir(PATH_SOUNDS)]"
   ]
  },
  {
   "cell_type": "code",
   "execution_count": 68,
   "id": "b339a9da-0026-47e8-b723-043aec39e271",
   "metadata": {},
   "outputs": [
    {
     "name": "stdout",
     "output_type": "stream",
     "text": [
      "torch.Size([1, 2, 20, 301])\n",
      "tensor([ 0.,  0.,  0.,  0.,  0.,  0.,  0.,  1.,  0.,  0.,  0.,  0.,  0.,  1.,\n",
      "         0., -1., -1.,  0.,  0.,  0.,  0.,  0.,  0.,  0.,  0.,  0.,  0.,  0.,\n",
      "         0.,  0.,  0.,  0.,  0.,  0.,  0.,  0., -1.,  0.,  0.,  0.,  1.,  0.,\n",
      "         0.,  0.,  0.,  0.,  0.,  1.,  0.,  0., -1.,  0.,  0.,  0.,  1.,  0.,\n",
      "         0.,  0.,  0.,  0.,  0.,  0.,  0.,  0., -1.,  0.,  0.,  0.,  0.,  0.,\n",
      "         0.,  0.,  0.,  0.,  0.,  0.,  0.,  0.,  0.,  0.,  0.,  0.,  0.,  0.,\n",
      "         0.,  0.,  0.,  0.,  0.,  0.,  1.,  0., -1.,  0.,  0.,  0.,  0.,  0.,\n",
      "         0.,  0.,  0.,  0.,  0.,  0.,  1.,  0.,  0.,  0.,  0.,  0.,  0.,  0.,\n",
      "         0., -1.,  0.,  0.,  0.,  0.,  0.,  0.,  0.,  0.,  0.,  0.,  0.,  0.,\n",
      "         0.,  0.,  0.,  0.,  0.,  0.,  1.,  0.,  0.,  0.,  0., -1., -1.,  0.,\n",
      "         1.,  0.,  0.,  0.,  0.,  0.,  0.,  0.,  0.,  0.,  0.,  0.,  0.,  1.,\n",
      "         0.,  0., -1.,  0.,  0.,  0.,  0.,  0.,  0.,  0.,  0.,  0.,  0.,  0.,\n",
      "         1.,  0.,  0.,  0.,  1.,  0.,  0.,  0.,  0.,  0.,  0.,  0.,  0.,  0.,\n",
      "         0.,  0., -1., -1.,  0.,  0., -1.,  0.,  0.,  0.,  1.,  0.,  1.,  0.,\n",
      "         0.,  0.,  0., -1., -1.,  0.,  0.,  0.,  0., -1.,  0.,  0.,  0.,  0.,\n",
      "         0., -1.,  0.,  1.,  0.,  0., -1.,  0.,  0.,  0., -1.,  1.,  1.,  1.,\n",
      "         0.,  0.,  1.,  0.,  1.,  0.,  0.,  0., -1.,  0.,  0.,  0.,  1.,  0.,\n",
      "         0.,  0.,  0., -1.,  0.,  0.,  0.,  1.,  0.,  0.,  0., -1.,  0.,  0.,\n",
      "         1.,  0.,  0.,  0.,  0., -1.,  0.,  0.,  0.,  0.,  0.,  0.,  0.,  0.,\n",
      "         0.,  0.,  0.,  0.,  0.,  0.,  0.,  0.,  0.,  0.,  0.,  0.,  0.,  0.,\n",
      "         0.,  0.,  0.,  0.,  0.,  0.,  0.,  0.,  0.,  0.,  0., -1.,  0.,  0.,\n",
      "         0.,  1.,  0.,  0.,  0.,  0.,  0.])\n"
     ]
    }
   ],
   "source": [
    "# we want to convert our sound file into spikes\n",
    "def to_spikes(path):\n",
    "    data, rate = torchaudio.load(path)\n",
    "\n",
    "    trains, targets = s2s([(data, torch.tensor(0))])\n",
    "    print(trains.shape)\n",
    "\n",
    "    trains = trains[0]\n",
    "    \n",
    "    # LOOK INTO EXACTLY WHAT CUMSUM IS DOING so we can figure out conversion to spikes\n",
    "    # with cumsum=False (default) looks like it makes sense\n",
    "    # I think we dont want cumsum (not entirely sure of what its doing)\n",
    "\n",
    "    print(trains[0][0])\n",
    "\n",
    "    spikes = []\n",
    "    spike_id_count = 0\n",
    "    for i in range(2):\n",
    "        for channel in trains[i]:\n",
    "            pos_channel, neg_channel = [], []\n",
    "            pos_id, neg_id = spike_id_count, spike_id_count+1\n",
    "            for t in range(len(channel)):\n",
    "                if channel[t] == 1:\n",
    "                    pos_channel.append(neuro.Spike(pos_id, t, 1))\n",
    "                    neg_channel.append(neuro.Spike(neg_id, t, 0))\n",
    "                elif channel[t] == -1:\n",
    "                    neg_channel.append(neuro.Spike(neg_id, t, 1))\n",
    "                    pos_channel.append(neuro.Spike(pos_id, t, 0))\n",
    "                else:\n",
    "                    pos_channel.append(neuro.Spike(pos_id, t, 0))\n",
    "                    neg_channel.append(neuro.Spike(neg_id, t, 0))\n",
    "\n",
    "            spikes.append(pos_channel.copy())\n",
    "            spikes.append(neg_channel.copy())\n",
    "\n",
    "            spike_id_count += 2\n",
    "\n",
    "    return spikes\n",
    "            \n",
    "spikes = to_spikes(file_paths[0])"
   ]
  },
  {
   "cell_type": "code",
   "execution_count": 38,
   "id": "32ff2f7b-7029-45eb-ac23-76a5732395b9",
   "metadata": {},
   "outputs": [
    {
     "ename": "TypeError",
     "evalue": "__init__(): incompatible constructor arguments. The following argument types are supported:\n    1. neuro.Spike(id: int, time: float, value: float)\n\nInvoked with: ",
     "output_type": "error",
     "traceback": [
      "\u001b[0;31m---------------------------------------------------------------------------\u001b[0m",
      "\u001b[0;31mTypeError\u001b[0m                                 Traceback (most recent call last)",
      "Cell \u001b[0;32mIn[38], line 1\u001b[0m\n\u001b[0;32m----> 1\u001b[0m \u001b[43mneuro\u001b[49m\u001b[38;5;241;43m.\u001b[39;49m\u001b[43mSpike\u001b[49m\u001b[43m(\u001b[49m\u001b[43m)\u001b[49m\n",
      "\u001b[0;31mTypeError\u001b[0m: __init__(): incompatible constructor arguments. The following argument types are supported:\n    1. neuro.Spike(id: int, time: float, value: float)\n\nInvoked with: "
     ]
    }
   ],
   "source": [
    "neuro.Spike()"
   ]
  },
  {
   "cell_type": "code",
   "execution_count": 69,
   "id": "da67e6a8-26b0-432c-8cb4-028bb197f9cd",
   "metadata": {},
   "outputs": [
    {
     "name": "stdout",
     "output_type": "stream",
     "text": [
      "0, 0, 0, 0, 0, 0, 0, 1, 0, 0, 0, 0, 0, 1, 0, 0, 0, 0, 0, 0, 0, 0, 0, 0, 0, 0, 0, 0, 0, 0, 0, 0, 0, 0, 0, 0, 0, 0, 0, 0, 1, 0, 0, 0, 0, 0, 0, 1, 0, 0, 0, 0, 0, 0, 1, 0, 0, 0, 0, 0, 0, 0, 0, 0, 0, 0, 0, 0, 0, 0, 0, 0, 0, 0, 0, 0, 0, 0, 0, 0, 0, 0, 0, 0, 0, 0, 0, 0, 0, 0, 1, 0, 0, 0, 0, 0, 0, 0, 0, 0, 0, 0, 0, 0, 1, 0, 0, 0, 0, 0, 0, 0, 0, 0, 0, 0, 0, 0, 0, 0, 0, 0, 0, 0, 0, 0, 0, 0, 0, 0, 0, 0, 1, 0, 0, 0, 0, 0, 0, 0, 1, 0, 0, 0, 0, 0, 0, 0, 0, 0, 0, 0, 0, 1, 0, 0, 0, 0, 0, 0, 0, 0, 0, 0, 0, 0, 0, 0, 1, 0, 0, 0, 1, 0, 0, 0, 0, 0, 0, 0, 0, 0, 0, 0, 0, 0, 0, 0, 0, 0, 0, 0, 1, 0, 1, 0, 0, 0, 0, 0, 0, 0, 0, 0, 0, 0, 0, 0, 0, 0, 0, 0, 0, 1, 0, 0, 0, 0, 0, 0, 0, 1, 1, 1, 0, 0, 1, 0, 1, 0, 0, 0, 0, 0, 0, 0, 1, 0, 0, 0, 0, 0, 0, 0, 0, 1, 0, 0, 0, 0, 0, 0, 1, 0, 0, 0, 0, 0, 0, 0, 0, 0, 0, 0, 0, 0, 0, 0, 0, 0, 0, 0, 0, 0, 0, 0, 0, 0, 0, 0, 0, 0, 0, 0, 0, 0, 0, 0, 0, 0, 0, 0, 0, 0, 0, 1, 0, 0, 0, 0, 0, "
     ]
    }
   ],
   "source": [
    "for i in range(len(spikes[0])):\n",
    "    print(f'{spikes[0][i].value:.0f}', end=', ')"
   ]
  },
  {
   "cell_type": "code",
   "execution_count": null,
   "id": "c86aadc5-f708-43f3-ac7c-d91855362f16",
   "metadata": {},
   "outputs": [],
   "source": []
  }
 ],
 "metadata": {
  "kernelspec": {
   "display_name": "Python 3 (ipykernel)",
   "language": "python",
   "name": "python3"
  },
  "language_info": {
   "codemirror_mode": {
    "name": "ipython",
    "version": 3
   },
   "file_extension": ".py",
   "mimetype": "text/x-python",
   "name": "python",
   "nbconvert_exporter": "python",
   "pygments_lexer": "ipython3",
   "version": "3.12.8"
  }
 },
 "nbformat": 4,
 "nbformat_minor": 5
}
