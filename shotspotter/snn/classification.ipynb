{
 "cells": [
  {
   "cell_type": "code",
   "execution_count": 92,
   "id": "296184ea-9259-4dbe-a1e0-2e54595131b4",
   "metadata": {},
   "outputs": [],
   "source": [
    "import eons\n",
    "import neuro\n",
    "import speech2spikes\n",
    "import os\n",
    "import torchaudio\n",
    "import torch\n",
    "\n",
    "PATH_SOUNDS = '/home/joao/dev/MLAudio/shotspotter/data/gunshots'\n",
    "\n",
    "# Look into possible enabling cumsum (see github)\n",
    "s2s = speech2spikes.S2S()\n",
    "\n",
    "# workaround to configure to 12khz sample rate (s2s.configure() didnt work)\n",
    "s2s._default_spec_kwargs = {\n",
    "    \"sample_rate\": 12000,\n",
    "    \"n_mels\": 20,\n",
    "    \"n_fft\": 512,\n",
    "    \"f_min\": 20,\n",
    "    \"f_max\": 4000,\n",
    "    \"hop_length\": 80,\n",
    "}\n",
    "s2s.transform = torchaudio.transforms.MelSpectrogram(**s2s._default_spec_kwargs)"
   ]
  },
  {
   "cell_type": "code",
   "execution_count": 93,
   "id": "f516ca5e-af5f-4ec6-8e4f-ec9cdfc2ba17",
   "metadata": {},
   "outputs": [],
   "source": [
    "file_paths = [PATH_SOUNDS+'/'+fn for fn in os.listdir(PATH_SOUNDS)]"
   ]
  },
  {
   "cell_type": "code",
   "execution_count": 95,
   "id": "b339a9da-0026-47e8-b723-043aec39e271",
   "metadata": {},
   "outputs": [
    {
     "name": "stdout",
     "output_type": "stream",
     "text": [
      "torch.Size([1, 2, 20, 301])\n",
      "tensor([ 0.,  0.,  0.,  0.,  0.,  0.,  0.,  1.,  0.,  0.,  0.,  0.,  0.,  1.,\n",
      "         0., -1., -1.,  0.,  0.,  0.,  0.,  0.,  0.,  0.,  0.,  0.,  0.,  0.,\n",
      "         0.,  0.,  0.,  0.,  0.,  0.,  0.,  0., -1.,  0.,  0.,  0.,  1.,  0.,\n",
      "         0.,  0.,  0.,  0.,  0.,  1.,  0.,  0., -1.,  0.,  0.,  0.,  1.,  0.,\n",
      "         0.,  0.,  0.,  0.,  0.,  0.,  0.,  0., -1.,  0.,  0.,  0.,  0.,  0.,\n",
      "         0.,  0.,  0.,  0.,  0.,  0.,  0.,  0.,  0.,  0.,  0.,  0.,  0.,  0.,\n",
      "         0.,  0.,  0.,  0.,  0.,  0.,  1.,  0., -1.,  0.,  0.,  0.,  0.,  0.,\n",
      "         0.,  0.,  0.,  0.,  0.,  0.,  1.,  0.,  0.,  0.,  0.,  0.,  0.,  0.,\n",
      "         0., -1.,  0.,  0.,  0.,  0.,  0.,  0.,  0.,  0.,  0.,  0.,  0.,  0.,\n",
      "         0.,  0.,  0.,  0.,  0.,  0.,  1.,  0.,  0.,  0.,  0., -1., -1.,  0.,\n",
      "         1.,  0.,  0.,  0.,  0.,  0.,  0.,  0.,  0.,  0.,  0.,  0.,  0.,  1.,\n",
      "         0.,  0., -1.,  0.,  0.,  0.,  0.,  0.,  0.,  0.,  0.,  0.,  0.,  0.,\n",
      "         1.,  0.,  0.,  0.,  1.,  0.,  0.,  0.,  0.,  0.,  0.,  0.,  0.,  0.,\n",
      "         0.,  0., -1., -1.,  0.,  0., -1.,  0.,  0.,  0.,  1.,  0.,  1.,  0.,\n",
      "         0.,  0.,  0., -1., -1.,  0.,  0.,  0.,  0., -1.,  0.,  0.,  0.,  0.,\n",
      "         0., -1.,  0.,  1.,  0.,  0., -1.,  0.,  0.,  0., -1.,  1.,  1.,  1.,\n",
      "         0.,  0.,  1.,  0.,  1.,  0.,  0.,  0., -1.,  0.,  0.,  0.,  1.,  0.,\n",
      "         0.,  0.,  0., -1.,  0.,  0.,  0.,  1.,  0.,  0.,  0., -1.,  0.,  0.,\n",
      "         1.,  0.,  0.,  0.,  0., -1.,  0.,  0.,  0.,  0.,  0.,  0.,  0.,  0.,\n",
      "         0.,  0.,  0.,  0.,  0.,  0.,  0.,  0.,  0.,  0.,  0.,  0.,  0.,  0.,\n",
      "         0.,  0.,  0.,  0.,  0.,  0.,  0.,  0.,  0.,  0.,  0., -1.,  0.,  0.,\n",
      "         0.,  1.,  0.,  0.,  0.,  0.,  0.])\n"
     ]
    }
   ],
   "source": [
    "# we want to convert our sound file into spikes\n",
    "def to_spikes(path):\n",
    "    data, rate = torchaudio.load(path)\n",
    "\n",
    "    trains, targets = s2s([(data, torch.tensor(0))])\n",
    "    print(trains.shape)\n",
    "\n",
    "    trains = trains[0]\n",
    "\n",
    "    print(trains[0][0])\n",
    "    # LOOK INTO EXACTLY WHAT CUMSUM IS DOING so we can figure out conversion to spikes\n",
    "    # with cumsum=False (default) looks like it makes sense\n",
    "    # I think we dont want cumsum (not entirely sure of what its doing)\n",
    "\n",
    "to_spikes(file_paths[0])"
   ]
  },
  {
   "cell_type": "code",
   "execution_count": 65,
   "id": "32ff2f7b-7029-45eb-ac23-76a5732395b9",
   "metadata": {},
   "outputs": [
    {
     "data": {
      "text/plain": [
       "['__class__',\n",
       " '__delattr__',\n",
       " '__dir__',\n",
       " '__doc__',\n",
       " '__eq__',\n",
       " '__format__',\n",
       " '__ge__',\n",
       " '__getattribute__',\n",
       " '__getstate__',\n",
       " '__gt__',\n",
       " '__hash__',\n",
       " '__init__',\n",
       " '__init_subclass__',\n",
       " '__le__',\n",
       " '__lt__',\n",
       " '__module__',\n",
       " '__ne__',\n",
       " '__new__',\n",
       " '__reduce__',\n",
       " '__reduce_ex__',\n",
       " '__repr__',\n",
       " '__setattr__',\n",
       " '__sizeof__',\n",
       " '__str__',\n",
       " '__subclasshook__',\n",
       " '_pybind11_conduit_v1_',\n",
       " 'id',\n",
       " 'time',\n",
       " 'value']"
      ]
     },
     "execution_count": 65,
     "metadata": {},
     "output_type": "execute_result"
    }
   ],
   "source": [
    "dir(neuro.Spike)"
   ]
  },
  {
   "cell_type": "code",
   "execution_count": null,
   "id": "9cda4d73-5435-483c-bd39-0577622415ae",
   "metadata": {},
   "outputs": [],
   "source": []
  }
 ],
 "metadata": {
  "kernelspec": {
   "display_name": "Python 3 (ipykernel)",
   "language": "python",
   "name": "python3"
  },
  "language_info": {
   "codemirror_mode": {
    "name": "ipython",
    "version": 3
   },
   "file_extension": ".py",
   "mimetype": "text/x-python",
   "name": "python",
   "nbconvert_exporter": "python",
   "pygments_lexer": "ipython3",
   "version": "3.12.8"
  }
 },
 "nbformat": 4,
 "nbformat_minor": 5
}
