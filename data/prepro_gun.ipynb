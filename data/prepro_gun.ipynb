{
 "cells": [
  {
   "cell_type": "code",
   "execution_count": 18,
   "metadata": {},
   "outputs": [],
   "source": [
    "import numpy as np\n",
    "import pandas as pd\n",
    "\n",
    "import matplotlib.pyplot as plt\n",
    "import seaborn as sns\n",
    "\n",
    "from scipy import signal\n",
    "from scipy.io import wavfile"
   ]
  },
  {
   "cell_type": "markdown",
   "metadata": {},
   "source": [
    "----\n",
    "Step One: start with loading the index file and filtering out non-gunshots noises (such as 'full rack loaded mag')"
   ]
  },
  {
   "cell_type": "code",
   "execution_count": 19,
   "metadata": {},
   "outputs": [
    {
     "name": "stdout",
     "output_type": "stream",
     "text": [
      "  Filename    CD  Track  Index  Duration  \\\n",
      "0      A_0  1911      1      1       NaN   \n",
      "1      A_1  1911      2      1       NaN   \n",
      "2      A_2  1911      3      1       NaN   \n",
      "3      A_3  1911      4      1       NaN   \n",
      "4      A_4  1911      5      1       NaN   \n",
      "\n",
      "                                         Description  Unnamed: 6 Unnamed: 7  \n",
      "0  1911, handgun, pistol, semi automatic, .45, Lo...         NaN        NaN  \n",
      "1  1911, handgun, pistol, semi automatic, .45, un...         NaN        NaN  \n",
      "2  1911, handgun, pistol, semi automatic, .45, in...         NaN        NaN  \n",
      "3  1911, handgun, pistol, semi automatic, .45, de...         NaN        NaN  \n",
      "4  1911, handgun, pistol, semi automatic, .45, in...         NaN        NaN  \n"
     ]
    },
    {
     "name": "stderr",
     "output_type": "stream",
     "text": [
      "/home/khood/anaconda3/envs/mlaudio/lib/python3.12/site-packages/openpyxl/worksheet/_reader.py:329: UserWarning: Unknown extension is not supported and will be removed\n",
      "  warn(msg)\n"
     ]
    }
   ],
   "source": [
    "pathToMaster = \"./Raw/Master Sheet.xlsx\"\n",
    "rawMaster = pd.read_excel(pathToMaster)\n",
    "print(rawMaster[:5])"
   ]
  },
  {
   "cell_type": "code",
   "execution_count": 20,
   "metadata": {},
   "outputs": [],
   "source": [
    "filteredMaster = rawMaster[rawMaster['Description'].str.contains(\"gunshot\")]"
   ]
  },
  {
   "cell_type": "code",
   "execution_count": 21,
   "metadata": {},
   "outputs": [
    {
     "name": "stdout",
     "output_type": "stream",
     "text": [
      "   Filename    CD  Track  Index  Duration  \\\n",
      "33     A_33  1911     34      1       NaN   \n",
      "34     A_34  1911     35      1       NaN   \n",
      "35     A_35  1911     36      1       NaN   \n",
      "36     A_36  1911     37      1       NaN   \n",
      "37     A_37  1911     38      1       NaN   \n",
      "\n",
      "                                          Description  Unnamed: 6 Unnamed: 7  \n",
      "33  1911, handgun, pistol, semi automatic, .45, gu...         NaN        NaN  \n",
      "34  1911, handgun, pistol, semi automatic, .45, gu...         NaN        NaN  \n",
      "35  1911, handgun, pistol, semi automatic, .45, gu...         NaN        NaN  \n",
      "36  1911, handgun, pistol, semi automatic, .45, gu...         NaN        NaN  \n",
      "37  1911, handgun, pistol, semi automatic, .45, gu...         NaN        NaN  \n",
      "284\n"
     ]
    }
   ],
   "source": [
    "print(filteredMaster[:5])\n",
    "print(len(filteredMaster))"
   ]
  },
  {
   "cell_type": "code",
   "execution_count": 22,
   "metadata": {},
   "outputs": [
    {
     "data": {
      "text/html": [
       "<div>\n",
       "<style scoped>\n",
       "    .dataframe tbody tr th:only-of-type {\n",
       "        vertical-align: middle;\n",
       "    }\n",
       "\n",
       "    .dataframe tbody tr th {\n",
       "        vertical-align: top;\n",
       "    }\n",
       "\n",
       "    .dataframe thead th {\n",
       "        text-align: right;\n",
       "    }\n",
       "</style>\n",
       "<table border=\"1\" class=\"dataframe\">\n",
       "  <thead>\n",
       "    <tr style=\"text-align: right;\">\n",
       "      <th></th>\n",
       "      <th>Filename</th>\n",
       "      <th>CD</th>\n",
       "    </tr>\n",
       "  </thead>\n",
       "  <tbody>\n",
       "    <tr>\n",
       "      <th>33</th>\n",
       "      <td>A_33</td>\n",
       "      <td>1911</td>\n",
       "    </tr>\n",
       "    <tr>\n",
       "      <th>34</th>\n",
       "      <td>A_34</td>\n",
       "      <td>1911</td>\n",
       "    </tr>\n",
       "    <tr>\n",
       "      <th>35</th>\n",
       "      <td>A_35</td>\n",
       "      <td>1911</td>\n",
       "    </tr>\n",
       "    <tr>\n",
       "      <th>36</th>\n",
       "      <td>A_36</td>\n",
       "      <td>1911</td>\n",
       "    </tr>\n",
       "    <tr>\n",
       "      <th>37</th>\n",
       "      <td>A_37</td>\n",
       "      <td>1911</td>\n",
       "    </tr>\n",
       "    <tr>\n",
       "      <th>...</th>\n",
       "      <td>...</td>\n",
       "      <td>...</td>\n",
       "    </tr>\n",
       "    <tr>\n",
       "      <th>719</th>\n",
       "      <td>X_43</td>\n",
       "      <td>Walther PPQ</td>\n",
       "    </tr>\n",
       "    <tr>\n",
       "      <th>720</th>\n",
       "      <td>X_44</td>\n",
       "      <td>Walther PPQ</td>\n",
       "    </tr>\n",
       "    <tr>\n",
       "      <th>721</th>\n",
       "      <td>X_45</td>\n",
       "      <td>Walther PPQ</td>\n",
       "    </tr>\n",
       "    <tr>\n",
       "      <th>722</th>\n",
       "      <td>X_46</td>\n",
       "      <td>Walther PPQ</td>\n",
       "    </tr>\n",
       "    <tr>\n",
       "      <th>723</th>\n",
       "      <td>X_47</td>\n",
       "      <td>Walther PPQ</td>\n",
       "    </tr>\n",
       "  </tbody>\n",
       "</table>\n",
       "<p>284 rows × 2 columns</p>\n",
       "</div>"
      ],
      "text/plain": [
       "    Filename           CD\n",
       "33      A_33         1911\n",
       "34      A_34         1911\n",
       "35      A_35         1911\n",
       "36      A_36         1911\n",
       "37      A_37         1911\n",
       "..       ...          ...\n",
       "719     X_43  Walther PPQ\n",
       "720     X_44  Walther PPQ\n",
       "721     X_45  Walther PPQ\n",
       "722     X_46  Walther PPQ\n",
       "723     X_47  Walther PPQ\n",
       "\n",
       "[284 rows x 2 columns]"
      ]
     },
     "execution_count": 22,
     "metadata": {},
     "output_type": "execute_result"
    }
   ],
   "source": [
    "filteredMaster = filteredMaster.drop([\"Track\",\"Index\",\"Duration\",\"Description\"], axis=1, errors='ignore')\n",
    "filteredMaster = filteredMaster.loc[:, ~filteredMaster.columns.str.contains('^Unnamed')]\n",
    "filteredMaster"
   ]
  },
  {
   "cell_type": "code",
   "execution_count": 42,
   "metadata": {},
   "outputs": [
    {
     "data": {
      "text/plain": [
       "True"
      ]
     },
     "execution_count": 42,
     "metadata": {},
     "output_type": "execute_result"
    }
   ],
   "source": [
    "filteredMaster[\"Filename\"].is_unique"
   ]
  },
  {
   "cell_type": "code",
   "execution_count": 23,
   "metadata": {},
   "outputs": [],
   "source": [
    "filteredMaster.to_csv('index.csv', index=False)  "
   ]
  },
  {
   "cell_type": "markdown",
   "metadata": {},
   "source": [
    "----\n",
    "Step Two: make a spectrogram to confirm data loads correctly; it should look something like the below. <br>\n",
    "![Gunshot spectrogram example](./Gunshot%20spectrogram%20example.png)"
   ]
  },
  {
   "cell_type": "code",
   "execution_count": 43,
   "metadata": {},
   "outputs": [
    {
     "name": "stdout",
     "output_type": "stream",
     "text": [
      "A_33\n",
      "opening file ./Raw/MasterTracks/A_33.wav\n"
     ]
    },
    {
     "name": "stderr",
     "output_type": "stream",
     "text": [
      "/tmp/ipykernel_734044/2853633001.py:4: WavFileWarning: Chunk (non-data) not understood, skipping it.\n",
      "  sample_rate, samples = wavfile.read(filename)\n"
     ]
    }
   ],
   "source": [
    "print(filteredMaster.iloc[0][\"Filename\"])\n",
    "filename = \"./Raw/MasterTracks/\" + filteredMaster.iloc[0][\"Filename\"] + \".wav\"\n",
    "print(f\"opening file {filename}\")\n",
    "sample_rate, samples = wavfile.read(filename)"
   ]
  },
  {
   "cell_type": "code",
   "execution_count": null,
   "metadata": {},
   "outputs": [],
   "source": []
  }
 ],
 "metadata": {
  "kernelspec": {
   "display_name": "mlaudio",
   "language": "python",
   "name": "python3"
  },
  "language_info": {
   "codemirror_mode": {
    "name": "ipython",
    "version": 3
   },
   "file_extension": ".py",
   "mimetype": "text/x-python",
   "name": "python",
   "nbconvert_exporter": "python",
   "pygments_lexer": "ipython3",
   "version": "3.12.1"
  }
 },
 "nbformat": 4,
 "nbformat_minor": 2
}
