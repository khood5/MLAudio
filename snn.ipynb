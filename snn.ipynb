{
 "cells": [
  {
   "cell_type": "code",
   "execution_count": 1,
   "metadata": {},
   "outputs": [],
   "source": [
    "import torch\n",
    "import torch.nn as nn\n",
    "import torch.optim as optim\n",
    "from torchvision import datasets, transforms, models\n",
    "from torch.utils.data import DataLoader\n",
    "from audioDataLoader import audioDataloader\n",
    "from tqdm import tqdm\n",
    "import matplotlib.pyplot as plt\n",
    "import seaborn as sns\n",
    "import pandas as pd\n",
    "import sys\n",
    "import neuro\n",
    "from py_apps import utils\n",
    "from py_apps.utils.common_utils import read_network\n",
    "from py_apps.utils.common_utils import load_json_arg\n",
    "from py_apps.utils.neuro_help import *\n",
    "import numpy"
   ]
  },
  {
   "cell_type": "code",
   "execution_count": 2,
   "metadata": {},
   "outputs": [],
   "source": [
    "x = 0\n",
    "if (x < -1):\n",
    "    print(10/x)"
   ]
  },
  {
   "cell_type": "code",
   "execution_count": 2,
   "metadata": {},
   "outputs": [],
   "source": [
    "parser = argparse.ArgumentParser(description=\"Classification Application Driver\")\n",
    "parser.add_argument(\"--activity\", \"-a\", required=True, type=str, choices=[\"train\", \"test\"], help=\"activity to perform\")\n",
    "args = parser.parse_args([\"--activity\",\"train\"])"
   ]
  },
  {
   "cell_type": "code",
   "execution_count": 3,
   "metadata": {},
   "outputs": [],
   "source": [
    "parser = argparse.ArgumentParser(description=\"Classification Application Driver\")\n",
    "parser.add_argument(\"--activity\", \"-a\", required=True, type=str, choices=[\"train\", \"test\"], help=\"activity to perform\")\n",
    "parser.add_argument(\"--network_filename\", default=None, type=str, help=\"location to store the best network file produced if training or network to load if testing\")\n",
    "parser.add_argument(\"--sim_time\", default=50, type=float, help=\"the simulation timefor each data instance\")\n",
    "parser.add_argument(\"--eons_params\", default=\"config/eons.json\", type=str, help=\"JSON file with EONS parameters\")\n",
    "parser.add_argument(\"--extra_eons_params\", default=\"{}\", type=str ,help=\"JSON file or JSON string updating EONS parameters from configuration file\")\n",
    "parser.add_argument(\"--epochs\", default=50, type=int, help=\"epochs for eons\")\n",
    "parser.add_argument(\"--max_fitness\", default=1e+06, type=float, help=\"max fitness for eons\")\n",
    "parser.add_argument(\"--processes\", default=1, type=int, help=\"processes for EONS\")\n",
    "parser.add_argument(\"--test_seed\", default=1234, type=int, help=\"testing seed\")\n",
    "\n",
    "# Classification params\n",
    "add_class_arguments(parser)\n",
    "\n",
    "# Proc params \n",
    "add_proc_arguments(parser)\n",
    "\n",
    "    # Encoder information\n",
    "add_coder_arguments(parser)\n",
    "\n",
    "# Printing params\n",
    "add_printing_arguments(parser)"
   ]
  },
  {
   "cell_type": "code",
   "execution_count": 4,
   "metadata": {},
   "outputs": [],
   "source": [
    "params = \"\"\"\n",
    "\t-a train \\\n",
    "\t--proc_params ./config/risp.json\\\n",
    "\t--eons_params ./config/eons_SPG.json\\\n",
    "\t--timeseries true \\\n",
    "\t--app_type load \\\n",
    "\t--data_np /home/khood/GitHub/EONS-SPG/framework/py-apps/data/PowerGridData_training.npy \\\n",
    "\t--labels_np /home/khood/GitHub/EONS-SPG/framework/py-apps/data/PowerGridLabels_training.npy \\\n",
    "\t--encoder '{\"spikes\":{\"min\":0,\"max\":1}}' \\\n",
    "\t--processes 40 \\\n",
    "\t--sim_time 1500 \\\n",
    "\t--epochs 1000 \\\n",
    "\t--network_filename /home/khood/GitHub/EONS-SPG/framework/py-apps/SmartGrid/best.json\n",
    "    \"\"\""
   ]
  },
  {
   "cell_type": "code",
   "execution_count": 5,
   "metadata": {},
   "outputs": [],
   "source": [
    "args = parser.parse_args(params.split())"
   ]
  },
  {
   "cell_type": "code",
   "execution_count": 6,
   "metadata": {},
   "outputs": [
    {
     "ename": "FileNotFoundError",
     "evalue": "[Errno 2] No such file or directory: '/home/khood/GitHub/EONS-SPG/framework/py-apps/data/PowerGridData_training.npy'",
     "output_type": "error",
     "traceback": [
      "\u001b[0;31m---------------------------------------------------------------------------\u001b[0m",
      "\u001b[0;31mFileNotFoundError\u001b[0m                         Traceback (most recent call last)",
      "Cell \u001b[0;32mIn[6], line 20\u001b[0m\n\u001b[1;32m     17\u001b[0m proc_instantiation \u001b[38;5;241m=\u001b[39m get_proc_instantiation(args\u001b[38;5;241m.\u001b[39mproc_name)\n\u001b[1;32m     19\u001b[0m \u001b[38;5;66;03m# Instantiate data\u001b[39;00m\n\u001b[0;32m---> 20\u001b[0m X, y \u001b[38;5;241m=\u001b[39m \u001b[43msetup_data\u001b[49m\u001b[43m(\u001b[49m\u001b[43margs\u001b[49m\u001b[43m)\u001b[49m\n\u001b[1;32m     22\u001b[0m config \u001b[38;5;241m=\u001b[39m setup_class_config(args)\n",
      "File \u001b[0;32m~/anaconda3/envs/mlaudio/lib/python3.12/site-packages/py_apps/utils/neuro_help.py:105\u001b[0m, in \u001b[0;36msetup_data\u001b[0;34m(args)\u001b[0m\n\u001b[1;32m    103\u001b[0m         X \u001b[38;5;241m=\u001b[39m pickle\u001b[38;5;241m.\u001b[39mload(f)\n\u001b[1;32m    104\u001b[0m \u001b[38;5;28;01melif\u001b[39;00m (args\u001b[38;5;241m.\u001b[39mdata_np \u001b[38;5;129;01mis\u001b[39;00m \u001b[38;5;129;01mnot\u001b[39;00m \u001b[38;5;28;01mNone\u001b[39;00m):\n\u001b[0;32m--> 105\u001b[0m     X \u001b[38;5;241m=\u001b[39m \u001b[43mnp\u001b[49m\u001b[38;5;241;43m.\u001b[39;49m\u001b[43mload\u001b[49m\u001b[43m(\u001b[49m\u001b[43margs\u001b[49m\u001b[38;5;241;43m.\u001b[39;49m\u001b[43mdata_np\u001b[49m\u001b[43m,\u001b[49m\u001b[43m \u001b[49m\u001b[43mallow_pickle\u001b[49m\u001b[38;5;241;43m=\u001b[39;49m\u001b[38;5;28;43;01mTrue\u001b[39;49;00m\u001b[43m)\u001b[49m\n\u001b[1;32m    106\u001b[0m \u001b[38;5;28;01melse\u001b[39;00m:\n\u001b[1;32m    107\u001b[0m     \u001b[38;5;28;01mraise\u001b[39;00m \u001b[38;5;167;01mException\u001b[39;00m(\u001b[38;5;124m\"\u001b[39m\u001b[38;5;124mWhen specifying app_type load, data and labels files must be specified with either data_pkl/labels_pkl or data_np/labels_np.\u001b[39m\u001b[38;5;124m\"\u001b[39m)\n",
      "File \u001b[0;32m~/anaconda3/envs/mlaudio/lib/python3.12/site-packages/numpy/lib/npyio.py:427\u001b[0m, in \u001b[0;36mload\u001b[0;34m(file, mmap_mode, allow_pickle, fix_imports, encoding, max_header_size)\u001b[0m\n\u001b[1;32m    425\u001b[0m     own_fid \u001b[38;5;241m=\u001b[39m \u001b[38;5;28;01mFalse\u001b[39;00m\n\u001b[1;32m    426\u001b[0m \u001b[38;5;28;01melse\u001b[39;00m:\n\u001b[0;32m--> 427\u001b[0m     fid \u001b[38;5;241m=\u001b[39m stack\u001b[38;5;241m.\u001b[39menter_context(\u001b[38;5;28;43mopen\u001b[39;49m\u001b[43m(\u001b[49m\u001b[43mos_fspath\u001b[49m\u001b[43m(\u001b[49m\u001b[43mfile\u001b[49m\u001b[43m)\u001b[49m\u001b[43m,\u001b[49m\u001b[43m \u001b[49m\u001b[38;5;124;43m\"\u001b[39;49m\u001b[38;5;124;43mrb\u001b[39;49m\u001b[38;5;124;43m\"\u001b[39;49m\u001b[43m)\u001b[49m)\n\u001b[1;32m    428\u001b[0m     own_fid \u001b[38;5;241m=\u001b[39m \u001b[38;5;28;01mTrue\u001b[39;00m\n\u001b[1;32m    430\u001b[0m \u001b[38;5;66;03m# Code to distinguish from NumPy binary files and pickles.\u001b[39;00m\n",
      "\u001b[0;31mFileNotFoundError\u001b[0m: [Errno 2] No such file or directory: '/home/khood/GitHub/EONS-SPG/framework/py-apps/data/PowerGridData_training.npy'"
     ]
    }
   ],
   "source": [
    " # Read in proc params as necessary\n",
    "proc_params = load_json_arg(args.proc_params)\n",
    "extra_proc_params = load_json_arg(args.extra_proc_params)\n",
    "for k in extra_proc_params.keys():\n",
    "    proc_params[k] = extra_proc_params[k]\n",
    "\n",
    "# Read in EONS params\n",
    "eons_params = load_json_arg(args.eons_params)\n",
    "\n",
    "#Read in extra EONS params\n",
    "extra_eons_params = load_json_arg(args.extra_eons_params)\n",
    "\n",
    "for k in extra_eons_params.keys():\n",
    "    eons_params[k] = extra_eons_params[k]\n",
    "#print(eons_params)\n",
    "\n",
    "proc_instantiation = get_proc_instantiation(args.proc_name)\n",
    "\n",
    "# Instantiate data\n",
    "X, y = setup_data(args)\n",
    "\n",
    "config = setup_class_config(args)"
   ]
  }
 ],
 "metadata": {
  "kernelspec": {
   "display_name": "mlaudio",
   "language": "python",
   "name": "python3"
  },
  "language_info": {
   "codemirror_mode": {
    "name": "ipython",
    "version": 3
   },
   "file_extension": ".py",
   "mimetype": "text/x-python",
   "name": "python",
   "nbconvert_exporter": "python",
   "pygments_lexer": "ipython3",
   "version": "3.12.2"
  }
 },
 "nbformat": 4,
 "nbformat_minor": 2
}
